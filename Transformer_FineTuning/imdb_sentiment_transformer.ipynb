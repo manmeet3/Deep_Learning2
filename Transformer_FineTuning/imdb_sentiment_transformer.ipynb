{
  "nbformat": 4,
  "nbformat_minor": 0,
  "metadata": {
    "colab": {
      "name": "Welcome To Colaboratory",
      "provenance": [],
      "collapsed_sections": [],
      "include_colab_link": true
    },
    "kernelspec": {
      "display_name": "Python 3",
      "name": "python3"
    }
  },
  "cells": [
    {
      "cell_type": "markdown",
      "metadata": {
        "id": "view-in-github",
        "colab_type": "text"
      },
      "source": [
        "<a href=\"https://colab.research.google.com/github/manmeet3/Deep_Learning2/blob/master/Transformer_FineTuning/imdb_sentiment_transformer.ipynb\" target=\"_parent\"><img src=\"https://colab.research.google.com/assets/colab-badge.svg\" alt=\"Open In Colab\"/></a>"
      ]
    },
    {
      "cell_type": "code",
      "metadata": {
        "id": "34NpwwHMo3Mr"
      },
      "source": [
        "import tensorflow as tf\r\n",
        "from tensorflow import keras\r\n",
        "from tensorflow.keras import layers"
      ],
      "execution_count": 29,
      "outputs": []
    },
    {
      "cell_type": "code",
      "metadata": {
        "id": "X9TSuZmEzf2w",
        "outputId": "92743298-47b0-4276-e73e-35197e97aa7a",
        "colab": {
          "base_uri": "https://localhost:8080/"
        }
      },
      "source": [
        "!nvidia-smi"
      ],
      "execution_count": 2,
      "outputs": [
        {
          "output_type": "stream",
          "text": [
            "Tue Dec 15 19:09:37 2020       \n",
            "+-----------------------------------------------------------------------------+\n",
            "| NVIDIA-SMI 455.45.01    Driver Version: 418.67       CUDA Version: 10.1     |\n",
            "|-------------------------------+----------------------+----------------------+\n",
            "| GPU  Name        Persistence-M| Bus-Id        Disp.A | Volatile Uncorr. ECC |\n",
            "| Fan  Temp  Perf  Pwr:Usage/Cap|         Memory-Usage | GPU-Util  Compute M. |\n",
            "|                               |                      |               MIG M. |\n",
            "|===============================+======================+======================|\n",
            "|   0  Tesla P100-PCIE...  Off  | 00000000:00:04.0 Off |                    0 |\n",
            "| N/A   44C    P0    28W / 250W |      0MiB / 16280MiB |      0%      Default |\n",
            "|                               |                      |                 ERR! |\n",
            "+-------------------------------+----------------------+----------------------+\n",
            "                                                                               \n",
            "+-----------------------------------------------------------------------------+\n",
            "| Processes:                                                                  |\n",
            "|  GPU   GI   CI        PID   Type   Process name                  GPU Memory |\n",
            "|        ID   ID                                                   Usage      |\n",
            "|=============================================================================|\n",
            "|  No running processes found                                                 |\n",
            "+-----------------------------------------------------------------------------+\n"
          ],
          "name": "stdout"
        }
      ]
    },
    {
      "cell_type": "markdown",
      "metadata": {
        "id": "996SwNTgpStJ"
      },
      "source": [
        "Implement multi-head self attention as a Keras layer"
      ]
    },
    {
      "cell_type": "code",
      "metadata": {
        "id": "zJXYKVHipQ_x"
      },
      "source": [
        "class MultiHeadSelfAttention(layers.Layer):\r\n",
        "  def __init__(self, embed_dim, num_heads=8):\r\n",
        "    super(MultiHeadSelfAttention, self).__init__()\r\n",
        "    self.embed_dim = embed_dim\r\n",
        "    self.num_heads = num_heads\r\n",
        "    if embed_dim % num_heads != 0:\r\n",
        "      raise ValueError(f\"embedding dimension = {embed_dim} should be divisible by number of heads: {num_heads}\")\r\n",
        "    self.projection_dim = embed_dim // num_heads\r\n",
        "    self.query_dense = layers.Dense(embed_dim)\r\n",
        "    self.key_dense = layers.Dense(embed_dim)\r\n",
        "    self.value_dense = layers.Dense(embed_dim)\r\n",
        "    self.combine_heads = layers.Dense(embed_dim)\r\n",
        "\r\n",
        "  def attention(self, query, key, value):\r\n",
        "    score = tf.matmul(query, key, transpose_b=True)\r\n",
        "    dim_key = tf.cast(tf.shape(key)[-1], tf.float32)\r\n",
        "    scaled_score = score / tf.math.sqrt(dim_key)\r\n",
        "    weights = tf.nn.softmax(scaled_score, axis=1)\r\n",
        "    output = tf.matmul(weights, value)\r\n",
        "    return output, weights\r\n",
        "\r\n",
        "  def separate_heads(self, x, batch_size):\r\n",
        "    x = tf.reshape(x, (batch_size, -1, self.num_heads, self.projection_dim))\r\n",
        "    return tf.transpose(x, perm=[0, 2, 1, 3])\r\n",
        "\r\n",
        "  def call(self, inputs):\r\n",
        "    batch_size = tf.shape(inputs)[0]\r\n",
        "    query = self.query_dense(inputs)\r\n",
        "    key = self.key_dense(inputs)\r\n",
        "    value = self.value_dense(inputs)\r\n",
        "    \r\n",
        "    query = self.separate_heads(query, batch_size)\r\n",
        "    key = self.separate_heads(key, batch_size)\r\n",
        "    value = self.separate_heads(value, batch_size)\r\n",
        "    attention, weights = self.attention(query, key, value)\r\n",
        "    attention = tf.transpose(attention, perm=[0, 2, 1, 3])\r\n",
        "    concat_attention = tf.reshape(attention, (batch_size, -1, self.embed_dim))\r\n",
        "    output = self.combine_heads(concat_attention)\r\n",
        "    return output"
      ],
      "execution_count": 30,
      "outputs": []
    },
    {
      "cell_type": "markdown",
      "metadata": {
        "id": "eeeZC84Ir7qY"
      },
      "source": [
        "Implement a transformer block as a layer"
      ]
    },
    {
      "cell_type": "code",
      "metadata": {
        "id": "Ov67mryer6Gk"
      },
      "source": [
        "class TransformerBlock(layers.Layer):\r\n",
        "  def __init__(self, embed_dim, num_heads, ff_dim, rate=0.1):\r\n",
        "    super(TransformerBlock, self).__init__()\r\n",
        "    self.att = MultiHeadSelfAttention(embed_dim, num_heads)\r\n",
        "    self.ffn = keras.Sequential(\r\n",
        "        [layers.Dense(ff_dim, activation=\"relu\"), layers.Dense(embed_dim),]\r\n",
        "    )\r\n",
        "    self.layernorm1 = layers.LayerNormalization(epsilon=1e-6)\r\n",
        "    self.layernorm2 = layers.LayerNormalization(epsilon=1e-6)\r\n",
        "    self.dropout1 = layers.Dropout(rate)\r\n",
        "    self.dropout2 = layers.Dropout(rate)\r\n",
        "\r\n",
        "  def call(self, inputs, training):\r\n",
        "    attn_output = self.att(inputs)\r\n",
        "    attn_output = self.dropout1(attn_output, training=training)\r\n",
        "    out1 = self.layernorm1(inputs + attn_output)\r\n",
        "    ffn_output = self.ffn(out1)\r\n",
        "    ffn_output = self.dropout2(ffn_output, training=training)\r\n",
        "    return self.layernorm2(out1 + ffn_output)"
      ],
      "execution_count": 31,
      "outputs": []
    },
    {
      "cell_type": "markdown",
      "metadata": {
        "id": "RmTtWgQAsvh4"
      },
      "source": [
        "Implement embedding layer"
      ]
    },
    {
      "cell_type": "code",
      "metadata": {
        "id": "T0WYyXDdsuvK"
      },
      "source": [
        "class TokenAndPositionEmbedding(layers.Layer):\r\n",
        "  def __init__(self, maxlen, vocab_size, embed_dim):\r\n",
        "    super(TokenAndPositionEmbedding, self).__init__()\r\n",
        "    self.token_emb = layers.Embedding(input_dim=vocab_size, output_dim=embed_dim)\r\n",
        "    self.pos_emb = layers.Embedding(input_dim=maxlen, output_dim=embed_dim)\r\n",
        "\r\n",
        "  def call(self, x):\r\n",
        "    maxlen = tf.shape(x)[-1]\r\n",
        "    positions = tf.range(start=0, limit=maxlen, delta=1)\r\n",
        "    positions = self.pos_emb(positions)\r\n",
        "    x = self.token_emb(x)\r\n",
        "    return x + positions"
      ],
      "execution_count": 32,
      "outputs": []
    },
    {
      "cell_type": "markdown",
      "metadata": {
        "id": "nAVoBYDXtT8G"
      },
      "source": [
        "Download and prepare dataset"
      ]
    },
    {
      "cell_type": "code",
      "metadata": {
        "id": "rqX66oUItQlJ",
        "outputId": "1663d3c8-be09-4077-9639-08e70da831f2",
        "colab": {
          "base_uri": "https://localhost:8080/"
        }
      },
      "source": [
        "vocab_size = 20000\r\n",
        "maxlen = 200\r\n",
        "(x_train, y_train), (x_val, y_val) = keras.datasets.imdb.load_data(num_words=vocab_size)\r\n",
        "print(len(x_train), \"Training sequences\")\r\n",
        "print(len(x_val), \"validation sequences\")\r\n",
        "x_train = keras.preprocessing.sequence.pad_sequences(x_train, maxlen=maxlen)\r\n",
        "x_val = keras.preprocessing.sequence.pad_sequences(x_val, maxlen=maxlen)"
      ],
      "execution_count": 33,
      "outputs": [
        {
          "output_type": "stream",
          "text": [
            "25000 Training sequences\n",
            "25000 validation sequences\n"
          ],
          "name": "stdout"
        }
      ]
    },
    {
      "cell_type": "markdown",
      "metadata": {
        "id": "XtCu-HqPtvA1"
      },
      "source": [
        "Create a classifier model using transformer layers"
      ]
    },
    {
      "cell_type": "code",
      "metadata": {
        "id": "Zozhw9eZtrjt"
      },
      "source": [
        "embed_dim = 32\r\n",
        "num_heads = 2\r\n",
        "ff_dim = 32\r\n",
        "\r\n",
        "inputs = layers.Input(shape=(maxlen,))\r\n",
        "embedding_layer = TokenAndPositionEmbedding(maxlen, vocab_size, embed_dim)\r\n",
        "x = embedding_layer(inputs)\r\n",
        "transformer_block = TransformerBlock(embed_dim, num_heads, ff_dim)\r\n",
        "x = transformer_block(x)\r\n",
        "x = layers.GlobalAveragePooling1D()(x)\r\n",
        "x = layers.Dropout(0.1)(x)\r\n",
        "x = layers.Dense(20, activation=\"relu\")(x)\r\n",
        "x = layers.Dense(0.1)(x)\r\n",
        "outputs = layers.Dense(2, activation=\"softmax\")(x)\r\n",
        "\r\n",
        "model = keras.Model(inputs=inputs, outputs=outputs)\r\n"
      ],
      "execution_count": 34,
      "outputs": []
    },
    {
      "cell_type": "code",
      "metadata": {
        "id": "qJSXibPVzToY",
        "outputId": "5ee33ff0-3b17-4fd7-d820-07b1dce11d82",
        "colab": {
          "base_uri": "https://localhost:8080/"
        }
      },
      "source": [
        "x_val[0].shape"
      ],
      "execution_count": 35,
      "outputs": [
        {
          "output_type": "execute_result",
          "data": {
            "text/plain": [
              "(200,)"
            ]
          },
          "metadata": {
            "tags": []
          },
          "execution_count": 35
        }
      ]
    },
    {
      "cell_type": "code",
      "metadata": {
        "id": "f_VYc5jOzMxq",
        "outputId": "b759c356-0ca1-41e0-af58-6a718c3650a2",
        "colab": {
          "base_uri": "https://localhost:8080/"
        }
      },
      "source": [
        "y_val[0]"
      ],
      "execution_count": 36,
      "outputs": [
        {
          "output_type": "execute_result",
          "data": {
            "text/plain": [
              "0"
            ]
          },
          "metadata": {
            "tags": []
          },
          "execution_count": 36
        }
      ]
    },
    {
      "cell_type": "code",
      "metadata": {
        "id": "qNtK-VzwuZ_O",
        "outputId": "9749b3e5-31e9-4594-d1d6-5d63ee511823",
        "colab": {
          "base_uri": "https://localhost:8080/"
        }
      },
      "source": [
        "model.compile(\"adam\", \"sparse_categorical_crossentropy\", metrics=[\"accuracy\"])\r\n",
        "history = model.fit(x_train, y_train, batch_size=32, epochs=2, validation_data=(x_val, y_val))"
      ],
      "execution_count": 37,
      "outputs": [
        {
          "output_type": "stream",
          "text": [
            "Epoch 1/2\n",
            "782/782 [==============================] - 182s 232ms/step - loss: 0.6931 - accuracy: 0.5000 - val_loss: 0.6931 - val_accuracy: 0.5000\n",
            "Epoch 2/2\n",
            "782/782 [==============================] - 181s 231ms/step - loss: 0.6931 - accuracy: 0.5000 - val_loss: 0.6931 - val_accuracy: 0.5000\n"
          ],
          "name": "stdout"
        }
      ]
    }
  ]
}