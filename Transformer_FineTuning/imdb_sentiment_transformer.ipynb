{
  "nbformat": 4,
  "nbformat_minor": 0,
  "metadata": {
    "colab": {
      "name": "Welcome To Colaboratory",
      "provenance": [],
      "collapsed_sections": [],
      "include_colab_link": true
    },
    "kernelspec": {
      "display_name": "Python 3",
      "name": "python3"
    },
    "accelerator": "GPU"
  },
  "cells": [
    {
      "cell_type": "markdown",
      "metadata": {
        "id": "view-in-github",
        "colab_type": "text"
      },
      "source": [
        "<a href=\"https://colab.research.google.com/github/manmeet3/Deep_Learning2/blob/master/Transformer_FineTuning/imdb_sentiment_transformer.ipynb\" target=\"_parent\"><img src=\"https://colab.research.google.com/assets/colab-badge.svg\" alt=\"Open In Colab\"/></a>"
      ]
    },
    {
      "cell_type": "code",
      "metadata": {
        "id": "34NpwwHMo3Mr"
      },
      "source": [
        "import tensorflow as tf\r\n",
        "from tensorflow import keras\r\n",
        "from tensorflow.keras import layers"
      ],
      "execution_count": 1,
      "outputs": []
    },
    {
      "cell_type": "markdown",
      "metadata": {
        "id": "tPGlm1ml7N_6"
      },
      "source": [
        "# Overview\r\n",
        "In this notebook, we create a custom MultiHeadSelfAttention class\r\n",
        "and use it to classify the sentiment in the classic IMDB dataset."
      ]
    },
    {
      "cell_type": "code",
      "metadata": {
        "colab": {
          "base_uri": "https://localhost:8080/"
        },
        "id": "X9TSuZmEzf2w",
        "outputId": "1ade398f-d8a6-45c5-cb0f-7a97570d168c"
      },
      "source": [
        "!nvidia-smi"
      ],
      "execution_count": 2,
      "outputs": [
        {
          "output_type": "stream",
          "text": [
            "Tue Dec 15 19:37:17 2020       \n",
            "+-----------------------------------------------------------------------------+\n",
            "| NVIDIA-SMI 455.45.01    Driver Version: 418.67       CUDA Version: 10.1     |\n",
            "|-------------------------------+----------------------+----------------------+\n",
            "| GPU  Name        Persistence-M| Bus-Id        Disp.A | Volatile Uncorr. ECC |\n",
            "| Fan  Temp  Perf  Pwr:Usage/Cap|         Memory-Usage | GPU-Util  Compute M. |\n",
            "|                               |                      |               MIG M. |\n",
            "|===============================+======================+======================|\n",
            "|   0  Tesla P100-PCIE...  Off  | 00000000:00:04.0 Off |                    0 |\n",
            "| N/A   44C    P0    28W / 250W |      0MiB / 16280MiB |      0%      Default |\n",
            "|                               |                      |                 ERR! |\n",
            "+-------------------------------+----------------------+----------------------+\n",
            "                                                                               \n",
            "+-----------------------------------------------------------------------------+\n",
            "| Processes:                                                                  |\n",
            "|  GPU   GI   CI        PID   Type   Process name                  GPU Memory |\n",
            "|        ID   ID                                                   Usage      |\n",
            "|=============================================================================|\n",
            "|  No running processes found                                                 |\n",
            "+-----------------------------------------------------------------------------+\n"
          ],
          "name": "stdout"
        }
      ]
    },
    {
      "cell_type": "markdown",
      "metadata": {
        "id": "996SwNTgpStJ"
      },
      "source": [
        "Implement multi-head self attention as a Keras layer"
      ]
    },
    {
      "cell_type": "code",
      "metadata": {
        "id": "zJXYKVHipQ_x"
      },
      "source": [
        "class MultiHeadSelfAttention(layers.Layer):\r\n",
        "  def __init__(self, embed_dim, num_heads=8):\r\n",
        "    super(MultiHeadSelfAttention, self).__init__()\r\n",
        "    self.embed_dim = embed_dim\r\n",
        "    self.num_heads = num_heads\r\n",
        "    if embed_dim % num_heads != 0:\r\n",
        "      raise ValueError(f\"embedding dimension = {embed_dim} should be divisible by number of heads: {num_heads}\")\r\n",
        "    self.projection_dim = embed_dim // num_heads\r\n",
        "    self.query_dense = layers.Dense(embed_dim)\r\n",
        "    self.key_dense = layers.Dense(embed_dim)\r\n",
        "    self.value_dense = layers.Dense(embed_dim)\r\n",
        "    self.combine_heads = layers.Dense(embed_dim)\r\n",
        "\r\n",
        "  def attention(self, query, key, value):\r\n",
        "    score = tf.matmul(query, key, transpose_b=True)\r\n",
        "    dim_key = tf.cast(tf.shape(key)[-1], tf.float32)\r\n",
        "    scaled_score = score / tf.math.sqrt(dim_key)\r\n",
        "    weights = tf.nn.softmax(scaled_score, axis=-1)\r\n",
        "    output = tf.matmul(weights, value)\r\n",
        "    return output, weights\r\n",
        "\r\n",
        "  def separate_heads(self, x, batch_size):\r\n",
        "    x = tf.reshape(x, (batch_size, -1, self.num_heads, self.projection_dim))\r\n",
        "    return tf.transpose(x, perm=[0, 2, 1, 3])\r\n",
        "\r\n",
        "  def call(self, inputs):\r\n",
        "    batch_size = tf.shape(inputs)[0]\r\n",
        "    query = self.query_dense(inputs)\r\n",
        "    key = self.key_dense(inputs)\r\n",
        "    value = self.value_dense(inputs)\r\n",
        "    \r\n",
        "    query = self.separate_heads(query, batch_size)\r\n",
        "    key = self.separate_heads(key, batch_size)\r\n",
        "    value = self.separate_heads(value, batch_size)\r\n",
        "    attention, weights = self.attention(query, key, value)\r\n",
        "    attention = tf.transpose(attention, perm=[0, 2, 1, 3])\r\n",
        "    concat_attention = tf.reshape(attention, (batch_size, -1, self.embed_dim))\r\n",
        "    output = self.combine_heads(concat_attention)\r\n",
        "    return output"
      ],
      "execution_count": 3,
      "outputs": []
    },
    {
      "cell_type": "markdown",
      "metadata": {
        "id": "eeeZC84Ir7qY"
      },
      "source": [
        "Implement a transformer block as a layer"
      ]
    },
    {
      "cell_type": "code",
      "metadata": {
        "id": "Ov67mryer6Gk"
      },
      "source": [
        "class TransformerBlock(layers.Layer):\r\n",
        "  def __init__(self, embed_dim, num_heads, ff_dim, rate=0.1):\r\n",
        "    super(TransformerBlock, self).__init__()\r\n",
        "    self.att = MultiHeadSelfAttention(embed_dim, num_heads)\r\n",
        "    self.ffn = keras.Sequential(\r\n",
        "        [layers.Dense(ff_dim, activation=\"relu\"), layers.Dense(embed_dim),]\r\n",
        "    )\r\n",
        "    self.layernorm1 = layers.LayerNormalization(epsilon=1e-6)\r\n",
        "    self.layernorm2 = layers.LayerNormalization(epsilon=1e-6)\r\n",
        "    self.dropout1 = layers.Dropout(rate)\r\n",
        "    self.dropout2 = layers.Dropout(rate)\r\n",
        "\r\n",
        "  def call(self, inputs, training):\r\n",
        "    attn_output = self.att(inputs)\r\n",
        "    attn_output = self.dropout1(attn_output, training=training)\r\n",
        "    out1 = self.layernorm1(inputs + attn_output)\r\n",
        "    ffn_output = self.ffn(out1)\r\n",
        "    ffn_output = self.dropout2(ffn_output, training=training)\r\n",
        "    return self.layernorm2(out1 + ffn_output)"
      ],
      "execution_count": 4,
      "outputs": []
    },
    {
      "cell_type": "markdown",
      "metadata": {
        "id": "RmTtWgQAsvh4"
      },
      "source": [
        "Implement embedding layer"
      ]
    },
    {
      "cell_type": "code",
      "metadata": {
        "id": "T0WYyXDdsuvK"
      },
      "source": [
        "class TokenAndPositionEmbedding(layers.Layer):\r\n",
        "  def __init__(self, maxlen, vocab_size, embed_dim):\r\n",
        "    super(TokenAndPositionEmbedding, self).__init__()\r\n",
        "    self.token_emb = layers.Embedding(input_dim=vocab_size, output_dim=embed_dim)\r\n",
        "    self.pos_emb = layers.Embedding(input_dim=maxlen, output_dim=embed_dim)\r\n",
        "\r\n",
        "  def call(self, x):\r\n",
        "    maxlen = tf.shape(x)[-1]\r\n",
        "    positions = tf.range(start=0, limit=maxlen, delta=1)\r\n",
        "    positions = self.pos_emb(positions)\r\n",
        "    x = self.token_emb(x)\r\n",
        "    return x + positions"
      ],
      "execution_count": 5,
      "outputs": []
    },
    {
      "cell_type": "markdown",
      "metadata": {
        "id": "nAVoBYDXtT8G"
      },
      "source": [
        "Download and prepare dataset"
      ]
    },
    {
      "cell_type": "code",
      "metadata": {
        "colab": {
          "base_uri": "https://localhost:8080/"
        },
        "id": "rqX66oUItQlJ",
        "outputId": "a3e8407d-0bc2-409f-e60b-550545f7f484"
      },
      "source": [
        "vocab_size = 20000\r\n",
        "maxlen = 200\r\n",
        "(x_train, y_train), (x_val, y_val) = keras.datasets.imdb.load_data(num_words=vocab_size)\r\n",
        "print(len(x_train), \"Training sequences\")\r\n",
        "print(len(x_val), \"validation sequences\")\r\n",
        "x_train = keras.preprocessing.sequence.pad_sequences(x_train, maxlen=maxlen)\r\n",
        "x_val = keras.preprocessing.sequence.pad_sequences(x_val, maxlen=maxlen)"
      ],
      "execution_count": 6,
      "outputs": [
        {
          "output_type": "stream",
          "text": [
            "25000 Training sequences\n",
            "25000 Validation sequences\n"
          ],
          "name": "stdout"
        }
      ]
    },
    {
      "cell_type": "markdown",
      "metadata": {
        "id": "XtCu-HqPtvA1"
      },
      "source": [
        "Create a classifier model using transformer layers"
      ]
    },
    {
      "cell_type": "code",
      "metadata": {
        "id": "Zozhw9eZtrjt"
      },
      "source": [
        "# Embedding size for each token\r\n",
        "embed_dim = 32 \r\n",
        "# Number of attention heads\r\n",
        "num_heads = 2\r\n",
        "# Hidden layer size of feed forward network inside Transformer\r\n",
        "ff_dim = 32\r\n",
        "\r\n",
        "# Prepend embedding layer and append feed forward layers to the transformer block\r\n",
        "inputs = layers.Input(shape=(maxlen,))\r\n",
        "embedding_layer = TokenAndPositionEmbedding(maxlen, vocab_size, embed_dim)\r\n",
        "x = embedding_layer(inputs)\r\n",
        "transformer_block = TransformerBlock(embed_dim, num_heads, ff_dim)\r\n",
        "x = transformer_block(x)\r\n",
        "x = layers.GlobalAveragePooling1D()(x)\r\n",
        "x = layers.Dropout(0.1)(x)\r\n",
        "x = layers.Dense(20, activation=\"relu\")(x)\r\n",
        "x = layers.Dense(0.1)(x)\r\n",
        "outputs = layers.Dense(2, activation=\"softmax\")(x)\r\n",
        "\r\n",
        "# \r\n",
        "model = keras.Model(inputs=inputs, outputs=outputs)\r\n"
      ],
      "execution_count": 7,
      "outputs": []
    },
    {
      "cell_type": "code",
      "metadata": {
        "colab": {
          "base_uri": "https://localhost:8080/"
        },
        "id": "qJSXibPVzToY",
        "outputId": "4a3c56eb-c4e4-4c57-edc3-5e970ec8aa63"
      },
      "source": [
        "x_val[0].shape"
      ],
      "execution_count": 8,
      "outputs": [
        {
          "output_type": "execute_result",
          "data": {
            "text/plain": [
              "(200,)"
            ]
          },
          "metadata": {
            "tags": []
          },
          "execution_count": 8
        }
      ]
    },
    {
      "cell_type": "code",
      "metadata": {
        "colab": {
          "base_uri": "https://localhost:8080/"
        },
        "id": "f_VYc5jOzMxq",
        "outputId": "c7f2cda1-0c6e-4981-a89c-e4f3b6cdc025"
      },
      "source": [
        "y_val[0]"
      ],
      "execution_count": 9,
      "outputs": [
        {
          "output_type": "execute_result",
          "data": {
            "text/plain": [
              "0"
            ]
          },
          "metadata": {
            "tags": []
          },
          "execution_count": 9
        }
      ]
    },
    {
      "cell_type": "code",
      "metadata": {
        "colab": {
          "base_uri": "https://localhost:8080/"
        },
        "id": "qNtK-VzwuZ_O",
        "outputId": "83022c42-1cf0-4644-f348-305fc194665e"
      },
      "source": [
        "# Compile and run\r\n",
        "model.compile(\"adam\", \"sparse_categorical_crossentropy\", metrics=[\"accuracy\"])\r\n",
        "history = model.fit(x_train, y_train, batch_size=32, epochs=20, validation_data=(x_val, y_val))"
      ],
      "execution_count": 10,
      "outputs": [
        {
          "output_type": "stream",
          "text": [
            "Epoch 1/20\n",
            "782/782 [==============================] - 17s 22ms/step - loss: 0.3776 - accuracy: 0.8185 - val_loss: 0.2902 - val_accuracy: 0.8753\n",
            "Epoch 2/20\n",
            "782/782 [==============================] - 16s 20ms/step - loss: 0.1966 - accuracy: 0.9222 - val_loss: 0.3116 - val_accuracy: 0.8725\n",
            "Epoch 3/20\n",
            "782/782 [==============================] - 16s 20ms/step - loss: 0.1312 - accuracy: 0.9527 - val_loss: 0.4015 - val_accuracy: 0.8584\n",
            "Epoch 4/20\n",
            "782/782 [==============================] - 16s 20ms/step - loss: 0.0830 - accuracy: 0.9718 - val_loss: 0.5470 - val_accuracy: 0.8546\n",
            "Epoch 5/20\n",
            "782/782 [==============================] - 15s 20ms/step - loss: 0.0548 - accuracy: 0.9824 - val_loss: 0.6014 - val_accuracy: 0.8370\n",
            "Epoch 6/20\n",
            "782/782 [==============================] - 16s 20ms/step - loss: 0.0436 - accuracy: 0.9856 - val_loss: 0.6436 - val_accuracy: 0.8432\n",
            "Epoch 7/20\n",
            "782/782 [==============================] - 16s 20ms/step - loss: 0.0303 - accuracy: 0.9903 - val_loss: 0.7971 - val_accuracy: 0.8413\n",
            "Epoch 8/20\n",
            "782/782 [==============================] - 16s 20ms/step - loss: 0.0229 - accuracy: 0.9931 - val_loss: 0.9355 - val_accuracy: 0.8152\n",
            "Epoch 9/20\n",
            "782/782 [==============================] - 16s 20ms/step - loss: 0.0228 - accuracy: 0.9932 - val_loss: 0.7820 - val_accuracy: 0.8376\n",
            "Epoch 10/20\n",
            "782/782 [==============================] - 15s 20ms/step - loss: 0.0171 - accuracy: 0.9948 - val_loss: 0.8760 - val_accuracy: 0.8328\n",
            "Epoch 11/20\n",
            "782/782 [==============================] - 15s 20ms/step - loss: 0.0144 - accuracy: 0.9956 - val_loss: 0.7902 - val_accuracy: 0.8329\n",
            "Epoch 12/20\n",
            "782/782 [==============================] - 15s 20ms/step - loss: 0.0121 - accuracy: 0.9957 - val_loss: 1.0661 - val_accuracy: 0.8310\n",
            "Epoch 13/20\n",
            "782/782 [==============================] - 15s 20ms/step - loss: 0.0095 - accuracy: 0.9967 - val_loss: 1.2313 - val_accuracy: 0.8306\n",
            "Epoch 14/20\n",
            "782/782 [==============================] - 15s 20ms/step - loss: 0.0090 - accuracy: 0.9966 - val_loss: 1.3369 - val_accuracy: 0.8123\n",
            "Epoch 15/20\n",
            "782/782 [==============================] - 15s 20ms/step - loss: 0.0108 - accuracy: 0.9960 - val_loss: 1.2606 - val_accuracy: 0.8268\n",
            "Epoch 16/20\n",
            "782/782 [==============================] - 15s 20ms/step - loss: 0.0088 - accuracy: 0.9966 - val_loss: 1.2019 - val_accuracy: 0.8161\n",
            "Epoch 17/20\n",
            "782/782 [==============================] - 15s 20ms/step - loss: 0.0061 - accuracy: 0.9978 - val_loss: 1.2675 - val_accuracy: 0.8262\n",
            "Epoch 18/20\n",
            "782/782 [==============================] - 15s 20ms/step - loss: 0.0065 - accuracy: 0.9977 - val_loss: 1.4858 - val_accuracy: 0.8200\n",
            "Epoch 19/20\n",
            "782/782 [==============================] - 15s 20ms/step - loss: 0.0054 - accuracy: 0.9980 - val_loss: 1.0627 - val_accuracy: 0.8222\n",
            "Epoch 20/20\n",
            "782/782 [==============================] - 16s 20ms/step - loss: 0.0066 - accuracy: 0.9978 - val_loss: 1.3980 - val_accuracy: 0.8214\n"
          ],
          "name": "stdout"
        }
      ]
    },
    {
      "cell_type": "code",
      "metadata": {
        "colab": {
          "base_uri": "https://localhost:8080/",
          "height": 295
        },
        "id": "kJwAU5Rv7GRz",
        "outputId": "f0850301-6790-4fe1-e492-efa39fcc808d"
      },
      "source": [
        "from matplotlib import pyplot as plt\r\n",
        "plt.plot(history.history['accuracy'])\r\n",
        "plt.plot(history.history['val_accuracy'])\r\n",
        "plt.title('model accuracy')\r\n",
        "plt.ylabel('accuracy')\r\n",
        "plt.xlabel('epoch')\r\n",
        "plt.legend(['train', 'val'], loc='upper left')\r\n",
        "plt.show()"
      ],
      "execution_count": 12,
      "outputs": [
        {
          "output_type": "display_data",
          "data": {
            "image/png": "[encoded data removed]",
            "text/plain": [
              "<Figure size 432x288 with 1 Axes>"
            ]
          },
          "metadata": {
            "tags": [],
            "needs_background": "light"
          }
        }
      ]
    },
    {
      "cell_type": "code",
      "metadata": {
        "colab": {
          "base_uri": "https://localhost:8080/",
          "height": 295
        },
        "id": "nYlKsrsN7J34",
        "outputId": "1c7cec8a-e963-4eb3-a773-a6a2919c8a72"
      },
      "source": [
        "plt.plot(history.history['loss'])\r\n",
        "plt.plot(history.history['val_loss'])\r\n",
        "plt.title('model loss')\r\n",
        "plt.ylabel('loss')\r\n",
        "plt.xlabel('epoch')\r\n",
        "plt.legend(['train', 'val'], loc='upper left')\r\n",
        "plt.show()"
      ],
      "execution_count": 13,
      "outputs": [
        {
          "output_type": "display_data",
          "data": {
            "image/png": "[encoded data removed]",
            "text/plain": [
              "<Figure size 432x288 with 1 Axes>"
            ]
          },
          "metadata": {
            "tags": [],
            "needs_background": "light"
          }
        }
      ]
    }
  ]
}