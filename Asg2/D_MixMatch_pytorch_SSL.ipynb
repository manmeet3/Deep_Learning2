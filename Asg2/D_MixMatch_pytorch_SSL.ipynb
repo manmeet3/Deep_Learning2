{
  "nbformat": 4,
  "nbformat_minor": 0,
  "metadata": {
    "colab": {
      "name": "Untitled2.ipynb",
      "provenance": [],
      "authorship_tag": "ABX9TyOzzWS05QRZ/UpLScaPdoIW",
      "include_colab_link": true
    },
    "kernelspec": {
      "name": "python3",
      "display_name": "Python 3"
    }
  },
  "cells": [
    {
      "cell_type": "markdown",
      "metadata": {
        "id": "view-in-github",
        "colab_type": "text"
      },
      "source": [
        "<a href=\"https://colab.research.google.com/github/manmeet3/Deep_Learning2/blob/master/Asg2/D_MixMatch_pytorch_SSL.ipynb\" target=\"_parent\"><img src=\"https://colab.research.google.com/assets/colab-badge.svg\" alt=\"Open In Colab\"/></a>"
      ]
    },
    {
      "cell_type": "markdown",
      "metadata": {
        "id": "e6W00t5doDk2",
        "colab_type": "text"
      },
      "source": [
        "https://github.com/noachr/MixMatch-fastai/blob/master/MixMatch%20Blog.ipynb\n",
        "https://github.com/noachr/MixMatch-fastai/blob/master/MixMatch%20EMA.ipynb"
      ]
    },
    {
      "cell_type": "code",
      "metadata": {
        "id": "KLO93K1RoCYR",
        "colab_type": "code",
        "colab": {}
      },
      "source": [
        ""
      ],
      "execution_count": null,
      "outputs": []
    },
    {
      "cell_type": "markdown",
      "metadata": {
        "id": "zCRXrXVwoDn_",
        "colab_type": "text"
      },
      "source": [
        ""
      ]
    }
  ]
}