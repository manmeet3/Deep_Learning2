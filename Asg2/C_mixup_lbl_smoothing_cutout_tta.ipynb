{
  "nbformat": 4,
  "nbformat_minor": 0,
  "metadata": {
    "colab": {
      "name": "C-mixup-lbl-smoothing-cutout-tta.ipynb",
      "provenance": [],
      "collapsed_sections": [],
      "authorship_tag": "ABX9TyMa2vIg1wrPTc0Oj4HF7diP",
      "include_colab_link": true
    },
    "kernelspec": {
      "name": "python3",
      "display_name": "Python 3"
    },
    "accelerator": "GPU"
  },
  "cells": [
    {
      "cell_type": "markdown",
      "metadata": {
        "id": "view-in-github",
        "colab_type": "text"
      },
      "source": [
        "<a href=\"https://colab.research.google.com/github/manmeet3/Deep_Learning2/blob/master/Asg2/C_mixup_lbl_smoothing_cutout_tta.ipynb\" target=\"_parent\"><img src=\"https://colab.research.google.com/assets/colab-badge.svg\" alt=\"Open In Colab\"/></a>"
      ]
    },
    {
      "cell_type": "markdown",
      "metadata": {
        "id": "o4SnB4kbkHoG",
        "colab_type": "text"
      },
      "source": [
        "C. Write a colab to demonstrate the mixup, label smoothing, cutout  and test time augmentation with proper ablation studies on a small data set (cifar? etc.,,.) - check slides for hints. you can use fastai. "
      ]
    },
    {
      "cell_type": "code",
      "metadata": {
        "id": "MxVw1N2mr5bX",
        "colab_type": "code",
        "colab": {
          "base_uri": "https://localhost:8080/",
          "height": 867
        },
        "outputId": "30545aea-a1f3-4b82-c266-785433977761"
      },
      "source": [
        "!pip install fastai --upgrade"
      ],
      "execution_count": 1,
      "outputs": [
        {
          "output_type": "stream",
          "text": [
            "Collecting fastai\n",
            "\u001b[?25l  Downloading https://files.pythonhosted.org/packages/6f/67/2cff133674a2201d593e7e2c2aa09f7efa6047a704fae50af3bfb154396e/fastai-2.0.12-py3-none-any.whl (355kB)\n",
            "\r\u001b[K     |█                               | 10kB 22.4MB/s eta 0:00:01\r\u001b[K     |█▉                              | 20kB 2.8MB/s eta 0:00:01\r\u001b[K     |██▊                             | 30kB 3.7MB/s eta 0:00:01\r\u001b[K     |███▊                            | 40kB 4.1MB/s eta 0:00:01\r\u001b[K     |████▋                           | 51kB 3.1MB/s eta 0:00:01\r\u001b[K     |█████▌                          | 61kB 3.6MB/s eta 0:00:01\r\u001b[K     |██████▌                         | 71kB 4.0MB/s eta 0:00:01\r\u001b[K     |███████▍                        | 81kB 4.2MB/s eta 0:00:01\r\u001b[K     |████████▎                       | 92kB 4.6MB/s eta 0:00:01\r\u001b[K     |█████████▎                      | 102kB 4.4MB/s eta 0:00:01\r\u001b[K     |██████████▏                     | 112kB 4.4MB/s eta 0:00:01\r\u001b[K     |███████████                     | 122kB 4.4MB/s eta 0:00:01\r\u001b[K     |████████████                    | 133kB 4.4MB/s eta 0:00:01\r\u001b[K     |█████████████                   | 143kB 4.4MB/s eta 0:00:01\r\u001b[K     |█████████████▉                  | 153kB 4.4MB/s eta 0:00:01\r\u001b[K     |██████████████▊                 | 163kB 4.4MB/s eta 0:00:01\r\u001b[K     |███████████████▊                | 174kB 4.4MB/s eta 0:00:01\r\u001b[K     |████████████████▋               | 184kB 4.4MB/s eta 0:00:01\r\u001b[K     |█████████████████▌              | 194kB 4.4MB/s eta 0:00:01\r\u001b[K     |██████████████████▌             | 204kB 4.4MB/s eta 0:00:01\r\u001b[K     |███████████████████▍            | 215kB 4.4MB/s eta 0:00:01\r\u001b[K     |████████████████████▎           | 225kB 4.4MB/s eta 0:00:01\r\u001b[K     |█████████████████████▏          | 235kB 4.4MB/s eta 0:00:01\r\u001b[K     |██████████████████████▏         | 245kB 4.4MB/s eta 0:00:01\r\u001b[K     |███████████████████████         | 256kB 4.4MB/s eta 0:00:01\r\u001b[K     |████████████████████████        | 266kB 4.4MB/s eta 0:00:01\r\u001b[K     |█████████████████████████       | 276kB 4.4MB/s eta 0:00:01\r\u001b[K     |█████████████████████████▉      | 286kB 4.4MB/s eta 0:00:01\r\u001b[K     |██████████████████████████▊     | 296kB 4.4MB/s eta 0:00:01\r\u001b[K     |███████████████████████████▊    | 307kB 4.4MB/s eta 0:00:01\r\u001b[K     |████████████████████████████▋   | 317kB 4.4MB/s eta 0:00:01\r\u001b[K     |█████████████████████████████▌  | 327kB 4.4MB/s eta 0:00:01\r\u001b[K     |██████████████████████████████▌ | 337kB 4.4MB/s eta 0:00:01\r\u001b[K     |███████████████████████████████▍| 348kB 4.4MB/s eta 0:00:01\r\u001b[K     |████████████████████████████████| 358kB 4.4MB/s \n",
            "\u001b[?25hRequirement already satisfied, skipping upgrade: pyyaml in /usr/local/lib/python3.6/dist-packages (from fastai) (3.13)\n",
            "Requirement already satisfied, skipping upgrade: scipy in /usr/local/lib/python3.6/dist-packages (from fastai) (1.4.1)\n",
            "Requirement already satisfied, skipping upgrade: torch>=1.6.0 in /usr/local/lib/python3.6/dist-packages (from fastai) (1.6.0+cu101)\n",
            "Requirement already satisfied, skipping upgrade: pandas in /usr/local/lib/python3.6/dist-packages (from fastai) (1.0.5)\n",
            "Requirement already satisfied, skipping upgrade: scikit-learn in /usr/local/lib/python3.6/dist-packages (from fastai) (0.22.2.post1)\n",
            "Collecting fastcore>=1.0.5\n",
            "\u001b[?25l  Downloading https://files.pythonhosted.org/packages/cf/e6/048d5aa8d4645fa046c59cd5429bb6c693855123e48fb2904c7b90e65df3/fastcore-1.0.11-py3-none-any.whl (40kB)\n",
            "\u001b[K     |████████████████████████████████| 40kB 6.0MB/s \n",
            "\u001b[?25hRequirement already satisfied, skipping upgrade: spacy in /usr/local/lib/python3.6/dist-packages (from fastai) (2.2.4)\n",
            "Requirement already satisfied, skipping upgrade: torchvision>=0.7 in /usr/local/lib/python3.6/dist-packages (from fastai) (0.7.0+cu101)\n",
            "Requirement already satisfied, skipping upgrade: matplotlib in /usr/local/lib/python3.6/dist-packages (from fastai) (3.2.2)\n",
            "Requirement already satisfied, skipping upgrade: fastprogress>=0.2.4 in /usr/local/lib/python3.6/dist-packages (from fastai) (1.0.0)\n",
            "Requirement already satisfied, skipping upgrade: pillow in /usr/local/lib/python3.6/dist-packages (from fastai) (7.0.0)\n",
            "Requirement already satisfied, skipping upgrade: packaging in /usr/local/lib/python3.6/dist-packages (from fastai) (20.4)\n",
            "Requirement already satisfied, skipping upgrade: requests in /usr/local/lib/python3.6/dist-packages (from fastai) (2.23.0)\n",
            "Requirement already satisfied, skipping upgrade: pip in /usr/local/lib/python3.6/dist-packages (from fastai) (19.3.1)\n",
            "Requirement already satisfied, skipping upgrade: numpy>=1.13.3 in /usr/local/lib/python3.6/dist-packages (from scipy->fastai) (1.18.5)\n",
            "Requirement already satisfied, skipping upgrade: future in /usr/local/lib/python3.6/dist-packages (from torch>=1.6.0->fastai) (0.16.0)\n",
            "Requirement already satisfied, skipping upgrade: pytz>=2017.2 in /usr/local/lib/python3.6/dist-packages (from pandas->fastai) (2018.9)\n",
            "Requirement already satisfied, skipping upgrade: python-dateutil>=2.6.1 in /usr/local/lib/python3.6/dist-packages (from pandas->fastai) (2.8.1)\n",
            "Requirement already satisfied, skipping upgrade: joblib>=0.11 in /usr/local/lib/python3.6/dist-packages (from scikit-learn->fastai) (0.16.0)\n",
            "Requirement already satisfied, skipping upgrade: blis<0.5.0,>=0.4.0 in /usr/local/lib/python3.6/dist-packages (from spacy->fastai) (0.4.1)\n",
            "Requirement already satisfied, skipping upgrade: thinc==7.4.0 in /usr/local/lib/python3.6/dist-packages (from spacy->fastai) (7.4.0)\n",
            "Requirement already satisfied, skipping upgrade: cymem<2.1.0,>=2.0.2 in /usr/local/lib/python3.6/dist-packages (from spacy->fastai) (2.0.3)\n",
            "Requirement already satisfied, skipping upgrade: preshed<3.1.0,>=3.0.2 in /usr/local/lib/python3.6/dist-packages (from spacy->fastai) (3.0.2)\n",
            "Requirement already satisfied, skipping upgrade: murmurhash<1.1.0,>=0.28.0 in /usr/local/lib/python3.6/dist-packages (from spacy->fastai) (1.0.2)\n",
            "Requirement already satisfied, skipping upgrade: setuptools in /usr/local/lib/python3.6/dist-packages (from spacy->fastai) (50.3.0)\n",
            "Requirement already satisfied, skipping upgrade: srsly<1.1.0,>=1.0.2 in /usr/local/lib/python3.6/dist-packages (from spacy->fastai) (1.0.2)\n",
            "Requirement already satisfied, skipping upgrade: catalogue<1.1.0,>=0.0.7 in /usr/local/lib/python3.6/dist-packages (from spacy->fastai) (1.0.0)\n",
            "Requirement already satisfied, skipping upgrade: wasabi<1.1.0,>=0.4.0 in /usr/local/lib/python3.6/dist-packages (from spacy->fastai) (0.8.0)\n",
            "Requirement already satisfied, skipping upgrade: tqdm<5.0.0,>=4.38.0 in /usr/local/lib/python3.6/dist-packages (from spacy->fastai) (4.41.1)\n",
            "Requirement already satisfied, skipping upgrade: plac<1.2.0,>=0.9.6 in /usr/local/lib/python3.6/dist-packages (from spacy->fastai) (1.1.3)\n",
            "Requirement already satisfied, skipping upgrade: pyparsing!=2.0.4,!=2.1.2,!=2.1.6,>=2.0.1 in /usr/local/lib/python3.6/dist-packages (from matplotlib->fastai) (2.4.7)\n",
            "Requirement already satisfied, skipping upgrade: kiwisolver>=1.0.1 in /usr/local/lib/python3.6/dist-packages (from matplotlib->fastai) (1.2.0)\n",
            "Requirement already satisfied, skipping upgrade: cycler>=0.10 in /usr/local/lib/python3.6/dist-packages (from matplotlib->fastai) (0.10.0)\n",
            "Requirement already satisfied, skipping upgrade: six in /usr/local/lib/python3.6/dist-packages (from packaging->fastai) (1.15.0)\n",
            "Requirement already satisfied, skipping upgrade: idna<3,>=2.5 in /usr/local/lib/python3.6/dist-packages (from requests->fastai) (2.10)\n",
            "Requirement already satisfied, skipping upgrade: urllib3!=1.25.0,!=1.25.1,<1.26,>=1.21.1 in /usr/local/lib/python3.6/dist-packages (from requests->fastai) (1.24.3)\n",
            "Requirement already satisfied, skipping upgrade: certifi>=2017.4.17 in /usr/local/lib/python3.6/dist-packages (from requests->fastai) (2020.6.20)\n",
            "Requirement already satisfied, skipping upgrade: chardet<4,>=3.0.2 in /usr/local/lib/python3.6/dist-packages (from requests->fastai) (3.0.4)\n",
            "Requirement already satisfied, skipping upgrade: importlib-metadata>=0.20; python_version < \"3.8\" in /usr/local/lib/python3.6/dist-packages (from catalogue<1.1.0,>=0.0.7->spacy->fastai) (1.7.0)\n",
            "Requirement already satisfied, skipping upgrade: zipp>=0.5 in /usr/local/lib/python3.6/dist-packages (from importlib-metadata>=0.20; python_version < \"3.8\"->catalogue<1.1.0,>=0.0.7->spacy->fastai) (3.1.0)\n",
            "Installing collected packages: fastcore, fastai\n",
            "  Found existing installation: fastai 1.0.61\n",
            "    Uninstalling fastai-1.0.61:\n",
            "      Successfully uninstalled fastai-1.0.61\n",
            "Successfully installed fastai-2.0.12 fastcore-1.0.11\n"
          ],
          "name": "stdout"
        }
      ]
    },
    {
      "cell_type": "code",
      "metadata": {
        "id": "MbA49a7x0-_w",
        "colab_type": "code",
        "colab": {
          "base_uri": "https://localhost:8080/",
          "height": 34
        },
        "outputId": "ec8e1e57-ec04-42bc-a8d9-5e4855e19600"
      },
      "source": [
        "from google.colab import drive\n",
        "drive.mount(\"/content/drive\")"
      ],
      "execution_count": 14,
      "outputs": [
        {
          "output_type": "stream",
          "text": [
            "Mounted at /content/drive\n"
          ],
          "name": "stdout"
        }
      ]
    },
    {
      "cell_type": "code",
      "metadata": {
        "id": "Eu5y4d_OjdJr",
        "colab_type": "code",
        "colab": {}
      },
      "source": [
        "import cv2\n",
        "import datetime\n",
        "import pandas as pd\n",
        "import time\n",
        "import h5py\n",
        "import csv\n",
        "\n",
        "import numpy\n",
        "import matplotlib.pyplot as plt"
      ],
      "execution_count": 2,
      "outputs": []
    },
    {
      "cell_type": "code",
      "metadata": {
        "id": "IEk54oUju5rL",
        "colab_type": "code",
        "colab": {}
      },
      "source": [
        "#export\n",
        "from fastai.basics import *\n",
        "from fastai.callback.progress import *\n",
        "from fastai.vision.core import *\n",
        "from fastai.vision.models.xresnet import *\n",
        "\n",
        "from torch.distributions.beta import Beta"
      ],
      "execution_count": 3,
      "outputs": []
    },
    {
      "cell_type": "markdown",
      "metadata": {
        "id": "o6j2nYi5qKjs",
        "colab_type": "text"
      },
      "source": [
        "Mixup"
      ]
    },
    {
      "cell_type": "code",
      "metadata": {
        "id": "jJOBm7wkCqdb",
        "colab_type": "code",
        "colab": {}
      },
      "source": [
        "# https://docs.fast.ai/callback.mixup\n",
        "# https://docs.fast.ai/data.core#Datasets\n",
        "# https://colab.research.google.com/github/fastai/fastai/blob/master/nbs/19_callback.mixup.ipynb#scrollTo=detfFmUG_YUt"
      ],
      "execution_count": 4,
      "outputs": []
    },
    {
      "cell_type": "code",
      "metadata": {
        "id": "YV5PLbVPIVAf",
        "colab_type": "code",
        "colab": {}
      },
      "source": [
        "# export\n",
        "@log_args\n",
        "class MixUp(Callback):\n",
        "    run_after,run_valid = [Normalize],False\n",
        "    def __init__(self, alpha=0.4): self.distrib = Beta(tensor(alpha), tensor(alpha))\n",
        "    def before_fit(self):\n",
        "        self.stack_y = getattr(self.learn.loss_func, 'y_int', False)\n",
        "        if self.stack_y: self.old_lf,self.learn.loss_func = self.learn.loss_func,self.lf\n",
        "\n",
        "    def after_fit(self):\n",
        "        if self.stack_y: self.learn.loss_func = self.old_lf\n",
        "\n",
        "    def before_batch(self):\n",
        "        lam = self.distrib.sample((self.y.size(0),)).squeeze().to(self.x.device)\n",
        "        lam = torch.stack([lam, 1-lam], 1)\n",
        "        self.lam = lam.max(1)[0]\n",
        "        shuffle = torch.randperm(self.y.size(0)).to(self.x.device)\n",
        "        xb1,self.yb1 = tuple(L(self.xb).itemgot(shuffle)),tuple(L(self.yb).itemgot(shuffle))\n",
        "        nx_dims = len(self.x.size())\n",
        "        self.learn.xb = tuple(L(xb1,self.xb).map_zip(torch.lerp,weight=unsqueeze(self.lam, n=nx_dims-1)))\n",
        "        if not self.stack_y:\n",
        "            ny_dims = len(self.y.size())\n",
        "            self.learn.yb = tuple(L(self.yb1,self.yb).map_zip(torch.lerp,weight=unsqueeze(self.lam, n=ny_dims-1)))\n",
        "\n",
        "    def lf(self, pred, *yb):\n",
        "        if not self.training: return self.old_lf(pred, *yb)\n",
        "        with NoneReduce(self.old_lf) as lf:\n",
        "            loss = torch.lerp(lf(pred,*self.yb1), lf(pred,*yb), self.lam)\n",
        "        return reduce_loss(loss, getattr(self.old_lf, 'reduction', 'mean'))"
      ],
      "execution_count": 5,
      "outputs": []
    },
    {
      "cell_type": "code",
      "metadata": {
        "id": "uoYDfw03Hswu",
        "colab_type": "code",
        "colab": {}
      },
      "source": [
        "path = untar_data(URLs.CIFAR_100)\n",
        "items = get_image_files(path)"
      ],
      "execution_count": 24,
      "outputs": []
    },
    {
      "cell_type": "code",
      "metadata": {
        "id": "YGvKUhVV0Zxc",
        "colab_type": "code",
        "colab": {
          "base_uri": "https://localhost:8080/",
          "height": 54
        },
        "outputId": "1ac26898-8e93-4e52-96ce-8789261b43c8"
      },
      "source": [
        "items"
      ],
      "execution_count": 26,
      "outputs": [
        {
          "output_type": "execute_result",
          "data": {
            "text/plain": [
              "(#60000) [Path('/root/.fastai/data/cifar100/train/medium_mammals/porcupine/porcupine_s_000442.png'),Path('/root/.fastai/data/cifar100/train/medium_mammals/porcupine/hedgehog_s_000476.png'),Path('/root/.fastai/data/cifar100/train/medium_mammals/porcupine/hedgehog_s_000038.png'),Path('/root/.fastai/data/cifar100/train/medium_mammals/porcupine/hedgehog_s_000658.png'),Path('/root/.fastai/data/cifar100/train/medium_mammals/porcupine/porcupine_s_000119.png'),Path('/root/.fastai/data/cifar100/train/medium_mammals/porcupine/porcupine_s_000243.png'),Path('/root/.fastai/data/cifar100/train/medium_mammals/porcupine/hedgehog_s_000188.png'),Path('/root/.fastai/data/cifar100/train/medium_mammals/porcupine/porcupine_s_000049.png'),Path('/root/.fastai/data/cifar100/train/medium_mammals/porcupine/porcupine_s_000741.png'),Path('/root/.fastai/data/cifar100/train/medium_mammals/porcupine/hedgehog_s_001522.png')...]"
            ]
          },
          "metadata": {
            "tags": []
          },
          "execution_count": 26
        }
      ]
    },
    {
      "cell_type": "code",
      "metadata": {
        "id": "F1JM-gJk0oH3",
        "colab_type": "code",
        "colab": {
          "base_uri": "https://localhost:8080/",
          "height": 34
        },
        "outputId": "d96c1e1c-a12b-4b92-c04e-79384e0aa2ec"
      },
      "source": [
        "path"
      ],
      "execution_count": 13,
      "outputs": [
        {
          "output_type": "execute_result",
          "data": {
            "text/plain": [
              "Path('/root/.fastai/data/cifar100')"
            ]
          },
          "metadata": {
            "tags": []
          },
          "execution_count": 13
        }
      ]
    },
    {
      "cell_type": "code",
      "metadata": {
        "id": "Tn2jB3r80Xpv",
        "colab_type": "code",
        "colab": {}
      },
      "source": [
        "tds = Datasets(items, [PILImageBW.create, [parent_label, Categorize()]])\n",
        "dls = tds.dataloaders(after_item=[ToTensor(), IntToFloatTensor()])"
      ],
      "execution_count": 39,
      "outputs": []
    },
    {
      "cell_type": "code",
      "metadata": {
        "id": "IqfmD8BgIu_i",
        "colab_type": "code",
        "colab": {
          "base_uri": "https://localhost:8080/",
          "height": 599
        },
        "outputId": "487e658e-0d88-4624-c448-c50181af81c5"
      },
      "source": [
        "mixup = MixUp(0.5)\n",
        "with Learner(dls, nn.Linear(3,4), loss_func=CrossEntropyLossFlat(), cbs=mixup) as learn:\n",
        "    learn.epoch,learn.training = 0,True\n",
        "    learn.dl = dls.train\n",
        "    b = dls.one_batch()\n",
        "    learn._split(b)\n",
        "    learn('before_batch')\n",
        "\n",
        "_,axs = plt.subplots(3,3, figsize=(9,9))\n",
        "dls.show_batch(b=(mixup.x,mixup.y), ctxs=axs.flatten())"
      ],
      "execution_count": 40,
      "outputs": [
        {
          "output_type": "display_data",
          "data": {
            "text/html": [
              "<table border=\"1\" class=\"dataframe\">\n",
              "  <thead>\n",
              "    <tr style=\"text-align: left;\">\n",
              "      <th>epoch</th>\n",
              "      <th>train_loss</th>\n",
              "      <th>valid_loss</th>\n",
              "      <th>time</th>\n",
              "    </tr>\n",
              "  </thead>\n",
              "  <tbody>\n",
              "    <tr>\n",
              "      <td>0</td>\n",
              "      <td>00:00</td>\n",
              "    </tr>\n",
              "  </tbody>\n",
              "</table>"
            ],
            "text/plain": [
              "<IPython.core.display.HTML object>"
            ]
          },
          "metadata": {
            "tags": []
          }
        },
        {
          "output_type": "display_data",
          "data": {
            "image/png": "[encoded data removed]",
            "text/plain": [
              "<Figure size 648x648 with 9 Axes>"
            ]
          },
          "metadata": {
            "tags": [],
            "needs_background": "light"
          }
        }
      ]
    },
    {
      "cell_type": "markdown",
      "metadata": {
        "id": "uBnBTxhHqKlf",
        "colab_type": "text"
      },
      "source": [
        "Label Smoothing"
      ]
    },
    {
      "cell_type": "markdown",
      "metadata": {
        "id": "AVddwhv7qKnp",
        "colab_type": "text"
      },
      "source": [
        "Cutout"
      ]
    },
    {
      "cell_type": "markdown",
      "metadata": {
        "id": "DsFnwjjNqReE",
        "colab_type": "text"
      },
      "source": [
        "Test Time Augmentation"
      ]
    }
  ]
}