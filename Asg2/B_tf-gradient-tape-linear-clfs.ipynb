{
  "nbformat": 4,
  "nbformat_minor": 0,
  "metadata": {
    "colab": {
      "name": "Untitled1.ipynb",
      "provenance": [],
      "collapsed_sections": [],
      "authorship_tag": "ABX9TyMkXgStMJXnHZKb2HJAB8LC",
      "include_colab_link": true
    },
    "kernelspec": {
      "name": "python3",
      "display_name": "Python 3"
    }
  },
  "cells": [
    {
      "cell_type": "markdown",
      "metadata": {
        "id": "view-in-github",
        "colab_type": "text"
      },
      "source": [
        "<a href=\"https://colab.research.google.com/github/manmeet3/Deep_Learning2/blob/master/Asg2/B_tf-gradient-tape-linear-clfs.ipynb\" target=\"_parent\"><img src=\"https://colab.research.google.com/assets/colab-badge.svg\" alt=\"Open In Colab\"/></a>"
      ]
    },
    {
      "cell_type": "markdown",
      "metadata": {
        "id": "TVedMgN4iUFg",
        "colab_type": "text"
      },
      "source": [
        "B. Low level tensorflow code - Use gradient tape and low level tensorflow code (do not use keras) to build a linear classifier, svm classifier (hint: adding margin to the of linear  loss) and deep neural network classifier. Provide the necessary metrics for performance of classifier as well as visualizations. Also build a deep neural network by subclassing the keras layer class (see slides - not functional api  and not using denselayer class - you need to define your own MyDenseLayer using subclassing    ) and demonstrate the performance of it.   - check code and links in slides for hints"
      ]
    },
    {
      "cell_type": "code",
      "metadata": {
        "id": "ErHZ-VAmgqAn",
        "colab_type": "code",
        "colab": {}
      },
      "source": [
        "#https://livebook.manning.com/book/deep-learning-with-python-second-edition/chapter-3/v-3/1"
      ],
      "execution_count": null,
      "outputs": []
    },
    {
      "cell_type": "code",
      "metadata": {
        "id": "3yS_aKsAgE7X",
        "colab_type": "code",
        "colab": {
          "base_uri": "https://localhost:8080/",
          "height": 34
        },
        "outputId": "78db45b1-a8ed-48ca-f487-e0862b628a5f"
      },
      "source": [
        "from google.colab import drive\n",
        "drive.mount(\"/content/drive\")"
      ],
      "execution_count": null,
      "outputs": [
        {
          "output_type": "stream",
          "text": [
            "Mounted at /content/drive\n"
          ],
          "name": "stdout"
        }
      ]
    },
    {
      "cell_type": "code",
      "metadata": {
        "id": "7-TJjWFUgU_5",
        "colab_type": "code",
        "colab": {}
      },
      "source": [
        "import numpy as np\n",
        "import pandas as pd\n",
        "import tensorflow as tf\n",
        "import matplotlib.pyplot as plt"
      ],
      "execution_count": 1,
      "outputs": []
    },
    {
      "cell_type": "markdown",
      "metadata": {
        "id": "DIQNoiMED0x4",
        "colab_type": "text"
      },
      "source": [
        "tf.variable is the class meant to manage modifiable state in tensorflow"
      ]
    },
    {
      "cell_type": "markdown",
      "metadata": {
        "id": "nbp359g4HRIa",
        "colab_type": "text"
      },
      "source": [
        "## Creating tf variables"
      ]
    },
    {
      "cell_type": "code",
      "metadata": {
        "id": "GkFDdieiD0GK",
        "colab_type": "code",
        "colab": {
          "base_uri": "https://localhost:8080/",
          "height": 85
        },
        "outputId": "b8fc2fd2-c47c-4ecd-bca2-e8dc79c4adab"
      },
      "source": [
        "v = tf.Variable(initial_value=tf.random.normal(shape=(3, 1)))\n",
        "print(v)"
      ],
      "execution_count": null,
      "outputs": [
        {
          "output_type": "stream",
          "text": [
            "<tf.Variable 'Variable:0' shape=(3, 1) dtype=float32, numpy=\n",
            "array([[-0.31270367],\n",
            "       [ 1.0300264 ],\n",
            "       [ 0.20949052]], dtype=float32)>\n"
          ],
          "name": "stdout"
        }
      ]
    },
    {
      "cell_type": "code",
      "metadata": {
        "id": "e91j98-zD6JA",
        "colab_type": "code",
        "colab": {
          "base_uri": "https://localhost:8080/",
          "height": 85
        },
        "outputId": "dfbdc507-4fb9-4a52-9a66-e79adf43026d"
      },
      "source": [
        "v.assign(tf.ones((3,1)))\n",
        "print(v)"
      ],
      "execution_count": null,
      "outputs": [
        {
          "output_type": "stream",
          "text": [
            "<tf.Variable 'Variable:0' shape=(3, 1) dtype=float32, numpy=\n",
            "array([[1.],\n",
            "       [1.],\n",
            "       [1.]], dtype=float32)>\n"
          ],
          "name": "stdout"
        }
      ]
    },
    {
      "cell_type": "code",
      "metadata": {
        "id": "ZVuJ77mHETTF",
        "colab_type": "code",
        "colab": {
          "base_uri": "https://localhost:8080/",
          "height": 85
        },
        "outputId": "3b14a8c1-fb6d-4cba-8f01-7fa7ca0334a8"
      },
      "source": [
        "v[0, 0].assign(3.)\n",
        "print(v)"
      ],
      "execution_count": null,
      "outputs": [
        {
          "output_type": "stream",
          "text": [
            "<tf.Variable 'Variable:0' shape=(3, 1) dtype=float32, numpy=\n",
            "array([[3.],\n",
            "       [1.],\n",
            "       [1.]], dtype=float32)>\n"
          ],
          "name": "stdout"
        }
      ]
    },
    {
      "cell_type": "code",
      "metadata": {
        "id": "BXQpb1m9Eck1",
        "colab_type": "code",
        "colab": {
          "base_uri": "https://localhost:8080/",
          "height": 85
        },
        "outputId": "12137adb-5578-4301-c0dc-ea62235a6453"
      },
      "source": [
        "v.assign_add(tf.ones((3,1)))"
      ],
      "execution_count": null,
      "outputs": [
        {
          "output_type": "execute_result",
          "data": {
            "text/plain": [
              "<tf.Variable 'UnreadVariable' shape=(3, 1) dtype=float32, numpy=\n",
              "array([[4.],\n",
              "       [2.],\n",
              "       [2.]], dtype=float32)>"
            ]
          },
          "metadata": {
            "tags": []
          },
          "execution_count": 8
        }
      ]
    },
    {
      "cell_type": "code",
      "metadata": {
        "id": "RUvNhqeHEgtM",
        "colab_type": "code",
        "colab": {}
      },
      "source": [
        "a = tf.ones((2,2))\n",
        "b = tf.square(a)\n",
        "c = tf.sqrt(a)\n",
        "d = b + c\n",
        "e = tf.matmul(a,b)\n",
        "e *= d"
      ],
      "execution_count": null,
      "outputs": []
    },
    {
      "cell_type": "code",
      "metadata": {
        "id": "hQKD2k7uEwrc",
        "colab_type": "code",
        "colab": {
          "base_uri": "https://localhost:8080/",
          "height": 68
        },
        "outputId": "6b7dfec2-1679-4abc-f38f-25391de68d46"
      },
      "source": [
        "a"
      ],
      "execution_count": null,
      "outputs": [
        {
          "output_type": "execute_result",
          "data": {
            "text/plain": [
              "<tf.Tensor: shape=(2, 2), dtype=float32, numpy=\n",
              "array([[1., 1.],\n",
              "       [1., 1.]], dtype=float32)>"
            ]
          },
          "metadata": {
            "tags": []
          },
          "execution_count": 16
        }
      ]
    },
    {
      "cell_type": "code",
      "metadata": {
        "id": "66BjQAXAE8xD",
        "colab_type": "code",
        "colab": {
          "base_uri": "https://localhost:8080/",
          "height": 34
        },
        "outputId": "492d2f2c-5b92-47d0-a9f2-97b719d58878"
      },
      "source": [
        "b"
      ],
      "execution_count": null,
      "outputs": [
        {
          "output_type": "execute_result",
          "data": {
            "text/plain": [
              "<tf.Tensor: shape=(2,), dtype=float64, numpy=array([1., 1.])>"
            ]
          },
          "metadata": {
            "tags": []
          },
          "execution_count": 14
        }
      ]
    },
    {
      "cell_type": "markdown",
      "metadata": {
        "id": "MOdZZGngHUF-",
        "colab_type": "text"
      },
      "source": [
        "## Using GradientTape on simple probs"
      ]
    },
    {
      "cell_type": "code",
      "metadata": {
        "id": "BQuU-DTSFE1T",
        "colab_type": "code",
        "colab": {
          "base_uri": "https://localhost:8080/",
          "height": 68
        },
        "outputId": "92dcd02d-f512-4fa2-d56d-68ae00a7b19a"
      },
      "source": [
        "# A tf variable maintains shared, persistent state manipulated by a program.\n",
        "input_var = tf.Variable(initial_value=3.)\n",
        "\n",
        "with tf.GradientTape() as tape:\n",
        "  result = tf.square(input_var)\n",
        "gradient = tape.gradient(result, input_var)\n",
        "\n",
        "# https://www.tensorflow.org/api_docs/python/tf/print -- addtl formats and\n",
        "# piping to stderr\n",
        "tf.print(input_var)\n",
        "tf.print(result)\n",
        "tf.print(gradient)"
      ],
      "execution_count": 2,
      "outputs": [
        {
          "output_type": "stream",
          "text": [
            "3\n",
            "9\n",
            "6\n"
          ],
          "name": "stdout"
        }
      ]
    },
    {
      "cell_type": "code",
      "metadata": {
        "id": "5GYDdhefGzag",
        "colab_type": "code",
        "colab": {
          "base_uri": "https://localhost:8080/",
          "height": 68
        },
        "outputId": "cae1fb57-a208-4a1a-9976-b0a6238a7615"
      },
      "source": [
        "input_const = tf.constant(3.)\n",
        "with tf.GradientTape() as tape:\n",
        "  tape.watch(input_const)\n",
        "  result = tf.square(input_const)\n",
        "gradient = tape.gradient(result, input_const)\n",
        "\n",
        "tf.print(input_const)\n",
        "tf.print(result)\n",
        "tf.print(gradient)"
      ],
      "execution_count": null,
      "outputs": [
        {
          "output_type": "stream",
          "text": [
            "3\n",
            "9\n",
            "6\n"
          ],
          "name": "stdout"
        }
      ]
    },
    {
      "cell_type": "code",
      "metadata": {
        "id": "7d0eLsVZHnls",
        "colab_type": "code",
        "colab": {
          "base_uri": "https://localhost:8080/",
          "height": 68
        },
        "outputId": "cb745761-d35e-4a48-f4e4-e5ed75a86d93"
      },
      "source": [
        "# compute second-order gradients\n",
        "time = tf.Variable(1.)\n",
        "with tf.GradientTape() as outer_tape:\n",
        "  with tf.GradientTape() as inner_tape:\n",
        "    position = 4.9 * time ** 2\n",
        "  speed = inner_tape.gradient(position, time)\n",
        "acceleration = outer_tape.gradient(speed, time)\n",
        "\n",
        "tf.print(position)\n",
        "tf.print(speed)\n",
        "tf.print(acceleration)\n"
      ],
      "execution_count": null,
      "outputs": [
        {
          "output_type": "stream",
          "text": [
            "4.9\n",
            "9.8\n",
            "9.8\n"
          ],
          "name": "stdout"
        }
      ]
    },
    {
      "cell_type": "markdown",
      "metadata": {
        "id": "mCViaTrFLacH",
        "colab_type": "text"
      },
      "source": [
        "## Linear Classifier with GradientTape"
      ]
    },
    {
      "cell_type": "code",
      "metadata": {
        "id": "5mrcKvZIKpok",
        "colab_type": "code",
        "colab": {}
      },
      "source": [
        "# key in this problem is understanding how to generate these samples, visualizing them, and writing a linear clf\n",
        "num_samples_per_class = 1000\n",
        "negative_samples = np.random.multivariate_normal(mean=[0, 3], cov=[[1, 0.5], [0.5, 1]], size=num_samples_per_class)\n",
        "positive_samples = np.random.multivariate_normal(mean=[3, 0], cov=[[1, 0.5], [0.5, 1]], size=num_samples_per_class)"
      ],
      "execution_count": 3,
      "outputs": []
    },
    {
      "cell_type": "code",
      "metadata": {
        "id": "qBpLCgYjp4J1",
        "colab_type": "code",
        "colab": {
          "base_uri": "https://localhost:8080/",
          "height": 51
        },
        "outputId": "74c11d66-b2e8-466c-c527-206fd2219406"
      },
      "source": [
        "print(negative_samples.shape)\n",
        "print(positive_samples.shape)"
      ],
      "execution_count": 5,
      "outputs": [
        {
          "output_type": "stream",
          "text": [
            "(1000, 2)\n",
            "(1000, 2)\n"
          ],
          "name": "stdout"
        }
      ]
    },
    {
      "cell_type": "code",
      "metadata": {
        "id": "2bGmRxRqL_GL",
        "colab_type": "code",
        "colab": {}
      },
      "source": [
        "inputs = np.vstack((negative_samples, positive_samples)).astype(np.float32)"
      ],
      "execution_count": 7,
      "outputs": []
    },
    {
      "cell_type": "code",
      "metadata": {
        "id": "azpzkaBBMbbx",
        "colab_type": "code",
        "colab": {}
      },
      "source": [
        "targets = np.vstack((np.zeros((num_samples_per_class, 1), dtype='float32'), np.ones((num_samples_per_class, 1), dtype='float32')))"
      ],
      "execution_count": 8,
      "outputs": []
    },
    {
      "cell_type": "code",
      "metadata": {
        "id": "Rfw6fd93rafZ",
        "colab_type": "code",
        "colab": {
          "base_uri": "https://localhost:8080/",
          "height": 34
        },
        "outputId": "f5fa0fdd-f63a-437e-fe8b-97af81a865be"
      },
      "source": [
        "inputs.shape"
      ],
      "execution_count": 12,
      "outputs": [
        {
          "output_type": "execute_result",
          "data": {
            "text/plain": [
              "(2000, 2)"
            ]
          },
          "metadata": {
            "tags": []
          },
          "execution_count": 12
        }
      ]
    },
    {
      "cell_type": "code",
      "metadata": {
        "id": "zqWYaoRdrhWa",
        "colab_type": "code",
        "colab": {
          "base_uri": "https://localhost:8080/",
          "height": 34
        },
        "outputId": "c0cf16d4-262d-48fc-ceef-9f9de214ac62"
      },
      "source": [
        "targets.shape"
      ],
      "execution_count": 13,
      "outputs": [
        {
          "output_type": "execute_result",
          "data": {
            "text/plain": [
              "(2000, 1)"
            ]
          },
          "metadata": {
            "tags": []
          },
          "execution_count": 13
        }
      ]
    },
    {
      "cell_type": "code",
      "metadata": {
        "id": "ThcT7xgHrlVS",
        "colab_type": "code",
        "colab": {
          "base_uri": "https://localhost:8080/",
          "height": 34
        },
        "outputId": "6463b3c5-6f0e-4bdd-f303-4bb034dea05a"
      },
      "source": [
        "targets[1000] # 1k list of 0s followd by 1k list of 1s"
      ],
      "execution_count": 19,
      "outputs": [
        {
          "output_type": "execute_result",
          "data": {
            "text/plain": [
              "array([1.], dtype=float32)"
            ]
          },
          "metadata": {
            "tags": []
          },
          "execution_count": 19
        }
      ]
    },
    {
      "cell_type": "code",
      "metadata": {
        "id": "-T19P5DkMweb",
        "colab_type": "code",
        "colab": {
          "base_uri": "https://localhost:8080/",
          "height": 265
        },
        "outputId": "296b00f5-f436-4df8-d0bb-9c9c673f1031"
      },
      "source": [
        "plt.scatter(inputs[:, 0], inputs[:, 1], c=targets[:, 0]) # positive samples and negative samples\n",
        "plt.show()"
      ],
      "execution_count": 20,
      "outputs": [
        {
          "output_type": "display_data",
          "data": {
            "image/png": "[encoded data removed]",
            "text/plain": [
              "<Figure size 432x288 with 1 Axes>"
            ]
          },
          "metadata": {
            "tags": [],
            "needs_background": "light"
          }
        }
      ]
    },
    {
      "cell_type": "code",
      "metadata": {
        "id": "UHa7Yka6Nz1I",
        "colab_type": "code",
        "colab": {}
      },
      "source": [
        "input_dim = 2\n",
        "output_dim = 1\n",
        "W = tf.Variable(initial_value=tf.random.uniform(shape=(input_dim, output_dim)))\n",
        "b = tf.Variable(initial_value=tf.zeros(shape=(output_dim,)))"
      ],
      "execution_count": 27,
      "outputs": []
    },
    {
      "cell_type": "code",
      "metadata": {
        "id": "UjPET5HDtwZS",
        "colab_type": "code",
        "colab": {
          "base_uri": "https://localhost:8080/",
          "height": 68
        },
        "outputId": "9c13e5b5-b82a-42f7-fa2e-aedbdcef3341"
      },
      "source": [
        "tf.print(W)\n",
        "tf.print(b)"
      ],
      "execution_count": 28,
      "outputs": [
        {
          "output_type": "stream",
          "text": [
            "[[0.482011795]\n",
            " [0.55212009]]\n",
            "[0]\n"
          ],
          "name": "stdout"
        }
      ]
    },
    {
      "cell_type": "code",
      "metadata": {
        "id": "2ktO_QitOJ8I",
        "colab_type": "code",
        "colab": {}
      },
      "source": [
        "def model(inputs):\n",
        "  return tf.matmul(inputs, W) + b"
      ],
      "execution_count": null,
      "outputs": []
    },
    {
      "cell_type": "code",
      "metadata": {
        "id": "2awQTOZzOSdI",
        "colab_type": "code",
        "colab": {}
      },
      "source": [
        "def square_loss(targets, predictions):\n",
        "  per_sample_losses = tf.square(targets - predictions)\n",
        "  return tf.reduce_mean(per_sample_losses)"
      ],
      "execution_count": null,
      "outputs": []
    },
    {
      "cell_type": "code",
      "metadata": {
        "id": "XSzqjbvfhs1R",
        "colab_type": "code",
        "colab": {}
      },
      "source": [
        "learning_rate = 0.1\n",
        "\n",
        "def training_step(inputs, targets):\n",
        "  with tf.GradientTape() as tape:\n",
        "    predictions = model(inputs)\n",
        "    loss = square_loss(predictions, targets)\n",
        "  grad_loss_wrt_W, grad_loss_wrt_b = tape.gradient(loss, [W, b])\n",
        "  W.assign_sub(grad_loss_wrt_W * learning_rate)\n",
        "  b.assign_sub(grad_loss_wrt_b * learning_rate)\n",
        "  return loss"
      ],
      "execution_count": null,
      "outputs": []
    },
    {
      "cell_type": "code",
      "metadata": {
        "id": "EC-xpmJ5iHZc",
        "colab_type": "code",
        "colab": {
          "base_uri": "https://localhost:8080/",
          "height": 357
        },
        "outputId": "367de601-4845-4e9f-f2f0-97c288239199"
      },
      "source": [
        "for step in range(20):\n",
        "  loss = training_step(inputs, targets)\n",
        "  print('Loss at step %d: %.4f' % (step, loss))"
      ],
      "execution_count": null,
      "outputs": [
        {
          "output_type": "stream",
          "text": [
            "Loss at step 0: 5.1711\n",
            "Loss at step 1: 0.6023\n",
            "Loss at step 2: 0.2028\n",
            "Loss at step 3: 0.1328\n",
            "Loss at step 4: 0.1149\n",
            "Loss at step 5: 0.1057\n",
            "Loss at step 6: 0.0984\n",
            "Loss at step 7: 0.0919\n",
            "Loss at step 8: 0.0860\n",
            "Loss at step 9: 0.0806\n",
            "Loss at step 10: 0.0757\n",
            "Loss at step 11: 0.0712\n",
            "Loss at step 12: 0.0670\n",
            "Loss at step 13: 0.0633\n",
            "Loss at step 14: 0.0598\n",
            "Loss at step 15: 0.0567\n",
            "Loss at step 16: 0.0538\n",
            "Loss at step 17: 0.0512\n",
            "Loss at step 18: 0.0488\n",
            "Loss at step 19: 0.0466\n"
          ],
          "name": "stdout"
        }
      ]
    },
    {
      "cell_type": "code",
      "metadata": {
        "id": "InekKU2Hi299",
        "colab_type": "code",
        "colab": {
          "base_uri": "https://localhost:8080/",
          "height": 265
        },
        "outputId": "411f1a6b-48b3-48f0-9a1b-0389cece19e4"
      },
      "source": [
        "predictions = model(inputs)\n",
        "plt.scatter(inputs[:, 0], inputs[:, 1], c=predictions[:, 0] > 0.5)\n",
        "plt.show()"
      ],
      "execution_count": null,
      "outputs": [
        {
          "output_type": "display_data",
          "data": {
            "image/png": "[encoded data removed]",
            "text/plain": [
              "<Figure size 432x288 with 1 Axes>"
            ]
          },
          "metadata": {
            "tags": [],
            "needs_background": "light"
          }
        }
      ]
    },
    {
      "cell_type": "code",
      "metadata": {
        "id": "6kyAd2AjjMtT",
        "colab_type": "code",
        "colab": {
          "base_uri": "https://localhost:8080/",
          "height": 282
        },
        "outputId": "574be382-9726-4047-9127-7eaf57bbc6a3"
      },
      "source": [
        "x = np.linspace(-1, 4, 100)\n",
        "y = -W[0]/W[1] * x + (0.5 -b) / W[1]\n",
        "plt.plot(x, y, '-r')\n",
        "plt.scatter(inputs[:, 0], inputs[:, 1], c=predictions[:, 0] > 0.5)"
      ],
      "execution_count": null,
      "outputs": [
        {
          "output_type": "execute_result",
          "data": {
            "text/plain": [
              "<matplotlib.collections.PathCollection at 0x7f93cb84e518>"
            ]
          },
          "metadata": {
            "tags": []
          },
          "execution_count": 44
        },
        {
          "output_type": "display_data",
          "data": {
            "image/png": "[encoded data removed]",
            "text/plain": [
              "<Figure size 432x288 with 1 Axes>"
            ]
          },
          "metadata": {
            "tags": [],
            "needs_background": "light"
          }
        }
      ]
    },
    {
      "cell_type": "markdown",
      "metadata": {
        "id": "LbaqR_Pgjjwm",
        "colab_type": "text"
      },
      "source": [
        "## DNN by subclassing keras layer class"
      ]
    },
    {
      "cell_type": "markdown",
      "metadata": {
        "id": "hJFIltWWv5yZ",
        "colab_type": "text"
      },
      "source": [
        "Just like LEGO bricks, you can only \"clip\" together layers that are compatible in terms of input and output"
      ]
    },
    {
      "cell_type": "markdown",
      "metadata": {
        "id": "gkNh3XCqwEnp",
        "colab_type": "text"
      },
      "source": [
        ""
      ]
    },
    {
      "cell_type": "code",
      "metadata": {
        "id": "kqOT4WUHjfaz",
        "colab_type": "code",
        "colab": {}
      },
      "source": [
        "from tensorflow import keras"
      ],
      "execution_count": 29,
      "outputs": []
    },
    {
      "cell_type": "code",
      "metadata": {
        "id": "gL5MHRXUwVBV",
        "colab_type": "code",
        "colab": {}
      },
      "source": [
        "class SimpleDense(keras.layers.Layer):\n",
        "\n",
        "  def __init__(self, units, activation=None):\n",
        "    super(SimpleDense, self).__init__()\n",
        "    self.units = units\n",
        "    self.activation = activation\n",
        "\n",
        "  def build(self, input_shape):\n",
        "    input_dim = input_shape[-1]\n",
        "    self.W = self.add_weight(shape=(input_dim, self.units),\n",
        "                             initializer='random_normal')\n",
        "    self.b = self.add_weight(shape=(self.units,), \n",
        "                             initializer='zeros')\n",
        "    \n",
        "  def call(self, inputs):\n",
        "    y = tf.matmul(inputs, self.W) + self.b\n",
        "    if self.activation is not None:\n",
        "      y = self.activation(y)\n",
        "    return y"
      ],
      "execution_count": null,
      "outputs": []
    },
    {
      "cell_type": "code",
      "metadata": {
        "id": "szv99fJcw5jC",
        "colab_type": "code",
        "colab": {}
      },
      "source": [
        ""
      ],
      "execution_count": null,
      "outputs": []
    }
  ]
}