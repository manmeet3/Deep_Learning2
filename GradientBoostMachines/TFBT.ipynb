{
  "nbformat": 4,
  "nbformat_minor": 0,
  "metadata": {
    "colab": {
      "name": "TFBT.ipynb",
      "provenance": [],
      "collapsed_sections": [],
      "authorship_tag": "ABX9TyOpoLhQ9ATw3h2/Cq/FQp5t",
      "include_colab_link": true
    },
    "kernelspec": {
      "name": "python3",
      "display_name": "Python 3"
    }
  },
  "cells": [
    {
      "cell_type": "markdown",
      "metadata": {
        "id": "view-in-github",
        "colab_type": "text"
      },
      "source": [
        "<a href=\"https://colab.research.google.com/github/manmeet3/Deep_Learning2/blob/master/GradientBoostMachines/TFBT.ipynb\" target=\"_parent\"><img src=\"https://colab.research.google.com/assets/colab-badge.svg\" alt=\"Open In Colab\"/></a>"
      ]
    },
    {
      "cell_type": "markdown",
      "metadata": {
        "id": "yeXmB9DzbUIo"
      },
      "source": [
        "Use kaggle data set with tensorflow boosted trees (tfbt) - do gridsearch on hyperparams if possible\n",
        "\n",
        "https://www.tensorflow.org/tutorials/estimator/boosted_trees_model_understanding\n"
      ]
    },
    {
      "cell_type": "code",
      "metadata": {
        "id": "t00p2wmJbJAC"
      },
      "source": [
        ""
      ],
      "execution_count": null,
      "outputs": []
    }
  ]
}