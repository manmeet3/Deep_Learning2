{
  "nbformat": 4,
  "nbformat_minor": 0,
  "metadata": {
    "colab": {
      "name": "catboost.ipynb",
      "provenance": [],
      "authorship_tag": "ABX9TyPhumQfwzZd7vxMEtWcNuE4",
      "include_colab_link": true
    },
    "kernelspec": {
      "name": "python3",
      "display_name": "Python 3"
    }
  },
  "cells": [
    {
      "cell_type": "markdown",
      "metadata": {
        "id": "view-in-github",
        "colab_type": "text"
      },
      "source": [
        "<a href=\"https://colab.research.google.com/github/manmeet3/Deep_Learning2/blob/master/GradientBoostMachines/catboost.ipynb\" target=\"_parent\"><img src=\"https://colab.research.google.com/assets/colab-badge.svg\" alt=\"Open In Colab\"/></a>"
      ]
    },
    {
      "cell_type": "markdown",
      "metadata": {
        "id": "yeXmB9DzbUIo"
      },
      "source": [
        "Use kaggle data set with catboost using GPU - do gridsearch on hyperparams if possible"
      ]
    },
    {
      "cell_type": "code",
      "metadata": {
        "id": "t00p2wmJbJAC"
      },
      "source": [
        ""
      ],
      "execution_count": null,
      "outputs": []
    }
  ]
}