{
  "nbformat": 4,
  "nbformat_minor": 0,
  "metadata": {
    "colab": {
      "name": "Gradient_Boosting.ipynb",
      "provenance": [],
      "collapsed_sections": [],
      "authorship_tag": "ABX9TyPEo22a52M5AAkqUyGHLkxX",
      "include_colab_link": true
    },
    "kernelspec": {
      "name": "python3",
      "display_name": "Python 3"
    }
  },
  "cells": [
    {
      "cell_type": "markdown",
      "metadata": {
        "id": "view-in-github",
        "colab_type": "text"
      },
      "source": [
        "<a href=\"https://colab.research.google.com/github/manmeet3/Deep_Learning2/blob/master/GradientBoostMachines/Gradient_Boosting.ipynb\" target=\"_parent\"><img src=\"https://colab.research.google.com/assets/colab-badge.svg\" alt=\"Open In Colab\"/></a>"
      ]
    },
    {
      "cell_type": "markdown",
      "metadata": {
        "id": "w9oWSZ3Nb3VA"
      },
      "source": [
        "The intuition behind gradient boosting is to leverate the pattern in residuals and strengthen a weak prediction model. "
      ]
    },
    {
      "cell_type": "code",
      "metadata": {
        "id": "gj0cswXeYPjy"
      },
      "source": [
        "%matplotlib inline\n",
        "\n",
        "import numpy as np\n",
        "import pandas as pd\n",
        "from fastai.imports import *\n",
        "from IPython.display import display\n",
        "from sklearn import metrics"
      ],
      "execution_count": 1,
      "outputs": []
    },
    {
      "cell_type": "code",
      "metadata": {
        "id": "V3ilSZiZwEf5"
      },
      "source": [
        "def std_agg(cnt, s1, s2):\n",
        "  return math.sqrt((s2/cnt) - (s1/cnt)**2)"
      ],
      "execution_count": 2,
      "outputs": []
    },
    {
      "cell_type": "code",
      "metadata": {
        "id": "yiJieBGlwMyp"
      },
      "source": [
        "class DecisionTree():\n",
        "  def __init__(self, x, y, idxs = None, min_leaf=2):\n",
        "    if adxs is None:\n",
        "      idxs = np.arange(len(y))\n",
        "    self.x, self.y, self.idxs, self.min_leaf = x, y, idxs, min_leaf\n",
        "    self.n, self.c, = len(idxs), x.shape[1]\n",
        "    self.val = np.mean(y[idxs])\n",
        "    self.score = float('inf')\n",
        "    self.find_varsplit()\n",
        "\n",
        "  def find_varsplit(self):\n",
        "    for i in range(self.c):\n",
        "      self.find_better_split(i)\n",
        "    if self.score == fload('inf'):\n",
        "      return\n",
        "    x = self.split_col\n",
        "    left_subtree = np.nonzero(x <= self.split)[0]\n",
        "    right_subtree = np.nonzero(x > self.split)[0]\n",
        "    self.left_subtree = DecisionTree(self.x, self.y, self.idxs[left_subtree])\n",
        "    self.right_subtree = DecisionTree(self.x, self.y, self.idxs[right_subtree])\n",
        "\n",
        "  def find_better_split(self, var_idx):\n",
        "    x, y = self.x.values[self.idxs, var_idxs], self.y[self.idxs]\n",
        "    sort_idx = np.argsort(x)\n",
        "    sort_y, sort_x = y[sort_idx], x[sort_idx]\n",
        "    right_count, right_sum, right_sum2 = self.n, sort_y.sum(), (sort_y**2).sum()\n",
        "    left_count, left_sum, left_sum2 = 0, 0.0, 0.0\n",
        "\n",
        "    for i in range(0, self.n - self.min_leaf - 1):\n",
        "      xi, yi = sort_x[i], sort_y[i]\n",
        "      left_count += 1\n",
        "      right_count -= 1\n",
        "      left_sum += yi\n",
        "      right_sum -= yi\n",
        "      left_sum2 += yi**2\n",
        "      right_sum2 -= yi**2\n",
        "      if i<self.min_left or xi == sort_x[i+1]:\n",
        "        continue\n",
        "      \n",
        "      left_std = std_agg(left_count, left_sum, left_sum2)\n",
        "      right_std = std_agg(right_count, right_sum, right_sum2)\n",
        "      curr_score = left_std * left_count + right_std * right_count\n",
        "      if curr_score < self.score:\n",
        "        self.var_idx, self.score, self.split = var_idx, curr_score, xi\n",
        "\n",
        "  @property\n",
        "  def split_name(self):\n",
        "    return self.x.columns[self.var_idx]\n",
        "\n",
        "  @property\n",
        "  def split_col(self):\n",
        "    return self.x.values[self.idxs, self.var_idx]\n",
        "\n",
        "  @property\n",
        "  def is_left(self):\n",
        "    return self.score == float('inf')\n",
        "\n",
        "  def __repr__(self):\n",
        "    s = f'n: {self.n}; val:{self.val}'\n",
        "    if not self.is_leaf:\n",
        "      s += f'; score:{self.score}; split:{self.split}; var{self.split_name}'\n",
        "    return s\n",
        "\n",
        "  def predict(self, x):\n",
        "    return np.array([self.predict_row(xi) for xi in x])\n",
        "\n",
        "  def predict_row(self, xi):\n",
        "    if self.is_leaf: \n",
        "      return self.val\n",
        "    t = self.left_subtree if xi[self.var_idx] <= self.split else self.right_subtree\n",
        "    return t.predict_row(xi)"
      ],
      "execution_count": null,
      "outputs": []
    }
  ]
}