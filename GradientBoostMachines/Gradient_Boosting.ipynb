{
  "nbformat": 4,
  "nbformat_minor": 0,
  "metadata": {
    "colab": {
      "name": "Gradient_Boosting.ipynb",
      "provenance": [],
      "collapsed_sections": [],
      "authorship_tag": "ABX9TyPJ0OP4Mwu+JLUCjZtW5gDg",
      "include_colab_link": true
    },
    "kernelspec": {
      "name": "python3",
      "display_name": "Python 3"
    }
  },
  "cells": [
    {
      "cell_type": "markdown",
      "metadata": {
        "id": "view-in-github",
        "colab_type": "text"
      },
      "source": [
        "<a href=\"https://colab.research.google.com/github/manmeet3/Deep_Learning2/blob/master/GradientBoostMachines/Gradient_Boosting.ipynb\" target=\"_parent\"><img src=\"https://colab.research.google.com/assets/colab-badge.svg\" alt=\"Open In Colab\"/></a>"
      ]
    },
    {
      "cell_type": "markdown",
      "metadata": {
        "id": "w9oWSZ3Nb3VA"
      },
      "source": [
        "The intuition behind gradient boosting is to leverate the pattern in residuals and strengthen a weak prediction model. "
      ]
    },
    {
      "cell_type": "code",
      "metadata": {
        "id": "gj0cswXeYPjy"
      },
      "source": [
        "%matplotlib inline\n",
        "\n",
        "import numpy as np\n",
        "import pandas as pd\n",
        "from fastai.imports import *\n",
        "from IPython.display import display\n",
        "from sklearn import metrics"
      ],
      "execution_count": 1,
      "outputs": []
    },
    {
      "cell_type": "code",
      "metadata": {
        "id": "V3ilSZiZwEf5"
      },
      "source": [
        "def std_agg(cnt, s1, s2):\n",
        "  return math.sqrt((s2/cnt) - (s1/cnt)**2)"
      ],
      "execution_count": 2,
      "outputs": []
    },
    {
      "cell_type": "markdown",
      "metadata": {
        "id": "r9XhfY-j9eCE"
      },
      "source": [
        "# TODO: Add comments"
      ]
    },
    {
      "cell_type": "code",
      "metadata": {
        "id": "yiJieBGlwMyp"
      },
      "source": [
        "class DecisionTree():\n",
        "  def __init__(self, x, y, idxs = None, min_leaf=2):\n",
        "    if idxs is None:\n",
        "      idxs = np.arange(len(y))\n",
        "    self.x, self.y, self.idxs, self.min_leaf = x, y, idxs, min_leaf\n",
        "    self.n, self.c, = len(idxs), x.shape[1]\n",
        "    self.val = np.mean(y[idxs])\n",
        "    self.score = float('inf')\n",
        "    self.find_varsplit()\n",
        "\n",
        "  def find_varsplit(self):\n",
        "    for i in range(self.c):\n",
        "      self.find_better_split(i)\n",
        "    if self.score == float('inf'):\n",
        "      return\n",
        "    x = self.split_col\n",
        "    left_subtree = np.nonzero(x <= self.split)[0]\n",
        "    right_subtree = np.nonzero(x > self.split)[0]\n",
        "    self.left_subtree = DecisionTree(self.x, self.y, self.idxs[left_subtree])\n",
        "    self.right_subtree = DecisionTree(self.x, self.y, self.idxs[right_subtree])\n",
        "\n",
        "  def find_better_split(self, var_idx):\n",
        "    x, y = self.x.values[self.idxs, var_idx], self.y[self.idxs]\n",
        "    sort_idx = np.argsort(x)\n",
        "    sort_y, sort_x = y[sort_idx], x[sort_idx]\n",
        "    right_count, right_sum, right_sum2 = self.n, sort_y.sum(), (sort_y**2).sum()\n",
        "    left_count, left_sum, left_sum2 = 0, 0.0, 0.0\n",
        "\n",
        "    for i in range(0, self.n - self.min_leaf - 1):\n",
        "      xi, yi = sort_x[i], sort_y[i]\n",
        "      left_count += 1\n",
        "      right_count -= 1\n",
        "      left_sum += yi\n",
        "      right_sum -= yi\n",
        "      left_sum2 += yi**2\n",
        "      right_sum2 -= yi**2\n",
        "      if i<self.min_leaf or xi == sort_x[i+1]:\n",
        "        continue\n",
        "      \n",
        "      left_std = std_agg(left_count, left_sum, left_sum2)\n",
        "      right_std = std_agg(right_count, right_sum, right_sum2)\n",
        "      curr_score = left_std * left_count + right_std * right_count\n",
        "      if curr_score < self.score:\n",
        "        self.var_idx, self.score, self.split = var_idx, curr_score, xi\n",
        "\n",
        "  @property\n",
        "  def split_name(self):\n",
        "    return self.x.columns[self.var_idx]\n",
        "\n",
        "  @property\n",
        "  def split_col(self):\n",
        "    return self.x.values[self.idxs, self.var_idx]\n",
        "\n",
        "  @property\n",
        "  def is_left(self):\n",
        "    return self.score == float('inf')\n",
        "\n",
        "  def __repr__(self):\n",
        "    s = f'n: {self.n}; val:{self.val}'\n",
        "    if not self.is_leaf:\n",
        "      s += f'; score:{self.score}; split:{self.split}; var{self.split_name}'\n",
        "    return s\n",
        "\n",
        "  def predict(self, x):\n",
        "    return np.array([self.predict_row(xi) for xi in x])\n",
        "\n",
        "  def predict_row(self, xi):\n",
        "    if self.is_leaf: \n",
        "      return self.val\n",
        "    t = self.left_subtree if xi[self.var_idx] <= self.split else self.right_subtree\n",
        "    return t.predict_row(xi)"
      ],
      "execution_count": 45,
      "outputs": []
    },
    {
      "cell_type": "markdown",
      "metadata": {
        "id": "ffcPppvx7U9G"
      },
      "source": [
        "Create test data by sampling and concatentating a few normal distributions"
      ]
    },
    {
      "cell_type": "code",
      "metadata": {
        "id": "E2aXW1AK7UGt"
      },
      "source": [
        "x = np.arange(0, 50)\n",
        "x = pd.DataFrame({'x': x})"
      ],
      "execution_count": 39,
      "outputs": []
    },
    {
      "cell_type": "code",
      "metadata": {
        "id": "PISOZW_77gN8"
      },
      "source": [
        "y1 = np.random.uniform(10, 20, 10)\n",
        "y2 = np.random.uniform(20, 30, 10)\n",
        "y3 = np.random.uniform(5, 20, 10)\n",
        "y4 = np.random.uniform(25, 32, 10)\n",
        "y5 = np.random.uniform(15, 30, 10)\n",
        "\n",
        "y = np.concatenate((y1, y2, y3, y4, y5))\n",
        "y = y[:, None]"
      ],
      "execution_count": 40,
      "outputs": []
    },
    {
      "cell_type": "code",
      "metadata": {
        "id": "M8UoskBc8Fuj",
        "outputId": "b123393f-205c-4076-e409-f0a6706882c7",
        "colab": {
          "base_uri": "https://localhost:8080/"
        }
      },
      "source": [
        "x.shape, y.shape"
      ],
      "execution_count": 41,
      "outputs": [
        {
          "output_type": "execute_result",
          "data": {
            "text/plain": [
              "((50, 1), (50, 1))"
            ]
          },
          "metadata": {
            "tags": []
          },
          "execution_count": 41
        }
      ]
    },
    {
      "cell_type": "code",
      "metadata": {
        "id": "OQqhiuN58HXy",
        "outputId": "445d05e9-5d0a-4fc9-d754-4267a79e6fab",
        "colab": {
          "base_uri": "https://localhost:8080/"
        }
      },
      "source": [
        "x.shape, y.shape"
      ],
      "execution_count": 42,
      "outputs": [
        {
          "output_type": "execute_result",
          "data": {
            "text/plain": [
              "((50, 1), (50, 1))"
            ]
          },
          "metadata": {
            "tags": []
          },
          "execution_count": 42
        }
      ]
    },
    {
      "cell_type": "code",
      "metadata": {
        "id": "QOy8Hjvm8kN7",
        "outputId": "f5528325-6748-47ca-ea06-e4d9c8ac8672",
        "colab": {
          "base_uri": "https://localhost:8080/",
          "height": 350
        }
      },
      "source": [
        "plt.figure(figsize=(7,5))\n",
        "plt.plot(x,y, 'o')\n",
        "plt.title(\"Scatter plot of x vs. y\")\n",
        "plt.xlabel(\"x\")\n",
        "plt.ylabel(\"y\")\n",
        "plt.show()"
      ],
      "execution_count": 43,
      "outputs": [
        {
          "output_type": "display_data",
          "data": {
            "image/png": "[encoded data removed]",
            "text/plain": [
              "<Figure size 504x360 with 1 Axes>"
            ]
          },
          "metadata": {
            "tags": [],
            "needs_background": "light"
          }
        }
      ]
    },
    {
      "cell_type": "markdown",
      "metadata": {
        "id": "UDk59twK8uCB"
      },
      "source": [
        "Gradient Boosting - Running Decision Trees in a loop"
      ]
    },
    {
      "cell_type": "markdown",
      "metadata": {
        "id": "stRlwwVT9bOo"
      },
      "source": [
        "# TODO: Add comments"
      ]
    },
    {
      "cell_type": "code",
      "metadata": {
        "id": "BrxHcsTS8mkT",
        "outputId": "75624a64-e75e-4272-d613-74f490a6bbc4",
        "colab": {
          "base_uri": "https://localhost:8080/",
          "height": 877
        }
      },
      "source": [
        "xi = x\n",
        "yi = y\n",
        "ei = 0\n",
        "n = len(yi)\n",
        "predf = 0\n",
        "\n",
        "for i in range(30):\n",
        "  tree = DecisionTree(xi, yi)\n",
        "  tree.find_better_split(0)\n",
        "\n",
        "  r = np.where(xi == tree.split)[0][0]\n",
        "  \n",
        "  left_idx = np.where(xi <= tree.split)[0]\n",
        "  right_idx = np.where(xi > tree.split)[0]\n",
        "\n",
        "  predi = np.zeros(n)\n",
        "  np.put(predi, left_idx, np.repeat(np.mean(yi[left_idx]), r))\n",
        "  np.put(predi, right_idx, np.repeat(np.mean(yi[right_idx]), n-r))\n",
        "\n",
        "  predi = predi[:None]\n",
        "  predf = predf + predi\n",
        "\n",
        "  ei = y - predf\n",
        "  yi = ei\n",
        "\n",
        "  xa = np.array(x.x)\n",
        "  order = np.argsort(xa)\n",
        "  xs = np.array(xa)[order]\n",
        "  ys = np.array(predf)[order]\n",
        "\n",
        "  f, (ax1, ax2) = plt.subplots(1, 2, sharey=True, figsize = (13, 2.5))\n",
        "\n",
        "  ax1.plot(x, y, 'o')\n",
        "  ax1.plot(xs, ys, 'r')\n",
        "  ax1.set_title(f'Prediction(Iteration {i+1})')\n",
        "  ax1.set_xlabel('x')\n",
        "  ax1.set_ylabel('y / y_pred')\n",
        "\n",
        "  ax2.plot(x, ei, 'go')\n",
        "  ax2.set_title(f'Residuals vs. x (Iteration {i+1})')\n",
        "  ax2.set_xlabel('x')\n",
        "  ax2.set_ylabel('Residuals')"
      ],
      "execution_count": 46,
      "outputs": [
        {
          "output_type": "error",
          "ename": "TypeError",
          "evalue": "ignored",
          "traceback": [
            "\u001b[0;31m---------------------------------------------------------------------------\u001b[0m",
            "\u001b[0;31mTypeError\u001b[0m                                 Traceback (most recent call last)",
            "\u001b[0;32m<ipython-input-46-f9daf1195816>\u001b[0m in \u001b[0;36m<module>\u001b[0;34m()\u001b[0m\n\u001b[1;32m      6\u001b[0m \u001b[0;34m\u001b[0m\u001b[0m\n\u001b[1;32m      7\u001b[0m \u001b[0;32mfor\u001b[0m \u001b[0mi\u001b[0m \u001b[0;32min\u001b[0m \u001b[0mrange\u001b[0m\u001b[0;34m(\u001b[0m\u001b[0;36m30\u001b[0m\u001b[0;34m)\u001b[0m\u001b[0;34m:\u001b[0m\u001b[0;34m\u001b[0m\u001b[0;34m\u001b[0m\u001b[0m\n\u001b[0;32m----> 8\u001b[0;31m   \u001b[0mtree\u001b[0m \u001b[0;34m=\u001b[0m \u001b[0mDecisionTree\u001b[0m\u001b[0;34m(\u001b[0m\u001b[0mxi\u001b[0m\u001b[0;34m,\u001b[0m \u001b[0myi\u001b[0m\u001b[0;34m)\u001b[0m\u001b[0;34m\u001b[0m\u001b[0;34m\u001b[0m\u001b[0m\n\u001b[0m\u001b[1;32m      9\u001b[0m   \u001b[0mtree\u001b[0m\u001b[0;34m.\u001b[0m\u001b[0mfind_better_split\u001b[0m\u001b[0;34m(\u001b[0m\u001b[0;36m0\u001b[0m\u001b[0;34m)\u001b[0m\u001b[0;34m\u001b[0m\u001b[0;34m\u001b[0m\u001b[0m\n\u001b[1;32m     10\u001b[0m \u001b[0;34m\u001b[0m\u001b[0m\n",
            "\u001b[0;32m<ipython-input-45-e4e6f20ee9e6>\u001b[0m in \u001b[0;36m__init__\u001b[0;34m(self, x, y, idxs, min_leaf)\u001b[0m\n\u001b[1;32m      7\u001b[0m     \u001b[0mself\u001b[0m\u001b[0;34m.\u001b[0m\u001b[0mval\u001b[0m \u001b[0;34m=\u001b[0m \u001b[0mnp\u001b[0m\u001b[0;34m.\u001b[0m\u001b[0mmean\u001b[0m\u001b[0;34m(\u001b[0m\u001b[0my\u001b[0m\u001b[0;34m[\u001b[0m\u001b[0midxs\u001b[0m\u001b[0;34m]\u001b[0m\u001b[0;34m)\u001b[0m\u001b[0;34m\u001b[0m\u001b[0;34m\u001b[0m\u001b[0m\n\u001b[1;32m      8\u001b[0m     \u001b[0mself\u001b[0m\u001b[0;34m.\u001b[0m\u001b[0mscore\u001b[0m \u001b[0;34m=\u001b[0m \u001b[0mfloat\u001b[0m\u001b[0;34m(\u001b[0m\u001b[0;34m'inf'\u001b[0m\u001b[0;34m)\u001b[0m\u001b[0;34m\u001b[0m\u001b[0;34m\u001b[0m\u001b[0m\n\u001b[0;32m----> 9\u001b[0;31m     \u001b[0mself\u001b[0m\u001b[0;34m.\u001b[0m\u001b[0mfind_varsplit\u001b[0m\u001b[0;34m(\u001b[0m\u001b[0;34m)\u001b[0m\u001b[0;34m\u001b[0m\u001b[0;34m\u001b[0m\u001b[0m\n\u001b[0m\u001b[1;32m     10\u001b[0m \u001b[0;34m\u001b[0m\u001b[0m\n\u001b[1;32m     11\u001b[0m   \u001b[0;32mdef\u001b[0m \u001b[0mfind_varsplit\u001b[0m\u001b[0;34m(\u001b[0m\u001b[0mself\u001b[0m\u001b[0;34m)\u001b[0m\u001b[0;34m:\u001b[0m\u001b[0;34m\u001b[0m\u001b[0;34m\u001b[0m\u001b[0m\n",
            "\u001b[0;32m<ipython-input-45-e4e6f20ee9e6>\u001b[0m in \u001b[0;36mfind_varsplit\u001b[0;34m(self)\u001b[0m\n\u001b[1;32m     11\u001b[0m   \u001b[0;32mdef\u001b[0m \u001b[0mfind_varsplit\u001b[0m\u001b[0;34m(\u001b[0m\u001b[0mself\u001b[0m\u001b[0;34m)\u001b[0m\u001b[0;34m:\u001b[0m\u001b[0;34m\u001b[0m\u001b[0;34m\u001b[0m\u001b[0m\n\u001b[1;32m     12\u001b[0m     \u001b[0;32mfor\u001b[0m \u001b[0mi\u001b[0m \u001b[0;32min\u001b[0m \u001b[0mrange\u001b[0m\u001b[0;34m(\u001b[0m\u001b[0mself\u001b[0m\u001b[0;34m.\u001b[0m\u001b[0mc\u001b[0m\u001b[0;34m)\u001b[0m\u001b[0;34m:\u001b[0m\u001b[0;34m\u001b[0m\u001b[0;34m\u001b[0m\u001b[0m\n\u001b[0;32m---> 13\u001b[0;31m       \u001b[0mself\u001b[0m\u001b[0;34m.\u001b[0m\u001b[0mfind_better_split\u001b[0m\u001b[0;34m(\u001b[0m\u001b[0mi\u001b[0m\u001b[0;34m)\u001b[0m\u001b[0;34m\u001b[0m\u001b[0;34m\u001b[0m\u001b[0m\n\u001b[0m\u001b[1;32m     14\u001b[0m     \u001b[0;32mif\u001b[0m \u001b[0mself\u001b[0m\u001b[0;34m.\u001b[0m\u001b[0mscore\u001b[0m \u001b[0;34m==\u001b[0m \u001b[0mfloat\u001b[0m\u001b[0;34m(\u001b[0m\u001b[0;34m'inf'\u001b[0m\u001b[0;34m)\u001b[0m\u001b[0;34m:\u001b[0m\u001b[0;34m\u001b[0m\u001b[0;34m\u001b[0m\u001b[0m\n\u001b[1;32m     15\u001b[0m       \u001b[0;32mreturn\u001b[0m\u001b[0;34m\u001b[0m\u001b[0;34m\u001b[0m\u001b[0m\n",
            "\u001b[0;32m<ipython-input-45-e4e6f20ee9e6>\u001b[0m in \u001b[0;36mfind_better_split\u001b[0;34m(self, var_idx)\u001b[0m\n\u001b[1;32m     38\u001b[0m         \u001b[0;32mcontinue\u001b[0m\u001b[0;34m\u001b[0m\u001b[0;34m\u001b[0m\u001b[0m\n\u001b[1;32m     39\u001b[0m \u001b[0;34m\u001b[0m\u001b[0m\n\u001b[0;32m---> 40\u001b[0;31m       \u001b[0mleft_std\u001b[0m \u001b[0;34m=\u001b[0m \u001b[0mstd_agg\u001b[0m\u001b[0;34m(\u001b[0m\u001b[0mleft_count\u001b[0m\u001b[0;34m,\u001b[0m \u001b[0mleft_sum\u001b[0m\u001b[0;34m,\u001b[0m \u001b[0mleft_sum2\u001b[0m\u001b[0;34m)\u001b[0m\u001b[0;34m\u001b[0m\u001b[0;34m\u001b[0m\u001b[0m\n\u001b[0m\u001b[1;32m     41\u001b[0m       \u001b[0mright_std\u001b[0m \u001b[0;34m=\u001b[0m \u001b[0mstd_agg\u001b[0m\u001b[0;34m(\u001b[0m\u001b[0mright_count\u001b[0m\u001b[0;34m,\u001b[0m \u001b[0mright_sum\u001b[0m\u001b[0;34m,\u001b[0m \u001b[0mright_sum2\u001b[0m\u001b[0;34m)\u001b[0m\u001b[0;34m\u001b[0m\u001b[0;34m\u001b[0m\u001b[0m\n\u001b[1;32m     42\u001b[0m       \u001b[0mcurr_score\u001b[0m \u001b[0;34m=\u001b[0m \u001b[0mleft_std\u001b[0m \u001b[0;34m*\u001b[0m \u001b[0mleft_count\u001b[0m \u001b[0;34m+\u001b[0m \u001b[0mright_std\u001b[0m \u001b[0;34m*\u001b[0m \u001b[0mright_count\u001b[0m\u001b[0;34m\u001b[0m\u001b[0;34m\u001b[0m\u001b[0m\n",
            "\u001b[0;32m<ipython-input-2-218f52eab0e3>\u001b[0m in \u001b[0;36mstd_agg\u001b[0;34m(cnt, s1, s2)\u001b[0m\n\u001b[1;32m      1\u001b[0m \u001b[0;32mdef\u001b[0m \u001b[0mstd_agg\u001b[0m\u001b[0;34m(\u001b[0m\u001b[0mcnt\u001b[0m\u001b[0;34m,\u001b[0m \u001b[0ms1\u001b[0m\u001b[0;34m,\u001b[0m \u001b[0ms2\u001b[0m\u001b[0;34m)\u001b[0m\u001b[0;34m:\u001b[0m\u001b[0;34m\u001b[0m\u001b[0;34m\u001b[0m\u001b[0m\n\u001b[0;32m----> 2\u001b[0;31m   \u001b[0;32mreturn\u001b[0m \u001b[0mmath\u001b[0m\u001b[0;34m.\u001b[0m\u001b[0msqrt\u001b[0m\u001b[0;34m(\u001b[0m\u001b[0;34m(\u001b[0m\u001b[0ms2\u001b[0m\u001b[0;34m/\u001b[0m\u001b[0mcnt\u001b[0m\u001b[0;34m)\u001b[0m \u001b[0;34m-\u001b[0m \u001b[0;34m(\u001b[0m\u001b[0ms1\u001b[0m\u001b[0;34m/\u001b[0m\u001b[0mcnt\u001b[0m\u001b[0;34m)\u001b[0m\u001b[0;34m**\u001b[0m\u001b[0;36m2\u001b[0m\u001b[0;34m)\u001b[0m\u001b[0;34m\u001b[0m\u001b[0;34m\u001b[0m\u001b[0m\n\u001b[0m",
            "\u001b[0;31mTypeError\u001b[0m: only size-1 arrays can be converted to Python scalars"
          ]
        },
        {
          "output_type": "display_data",
          "data": {
            "image/png": "[encoded data removed]",
            "text/plain": [
              "<Figure size 936x180 with 2 Axes>"
            ]
          },
          "metadata": {
            "tags": [],
            "needs_background": "light"
          }
        }
      ]
    },
    {
      "cell_type": "code",
      "metadata": {
        "id": "CA_q_GLJ-tr9"
      },
      "source": [
        ""
      ],
      "execution_count": null,
      "outputs": []
    }
  ]
}