{
  "nbformat": 4,
  "nbformat_minor": 0,
  "metadata": {
    "colab": {
      "name": "Untitled2.ipynb",
      "provenance": [],
      "authorship_tag": "ABX9TyM3Xg3yJJlD4Ah4ImmqLmPE",
      "include_colab_link": true
    },
    "kernelspec": {
      "name": "python3",
      "display_name": "Python 3"
    }
  },
  "cells": [
    {
      "cell_type": "markdown",
      "metadata": {
        "id": "view-in-github",
        "colab_type": "text"
      },
      "source": [
        "<a href=\"https://colab.research.google.com/github/manmeet3/Deep_Learning2/blob/master/Asg2/D_MixMatch_pytorch_SSL.ipynb\" target=\"_parent\"><img src=\"https://colab.research.google.com/assets/colab-badge.svg\" alt=\"Open In Colab\"/></a>"
      ]
    },
    {
      "cell_type": "markdown",
      "metadata": {
        "id": "QQ7VnEEeOx32",
        "colab_type": "text"
      },
      "source": [
        "D. Implement MixMatch semi supervised classification using fastai (check slides) with small data set and provide ablation studies.\n"
      ]
    },
    {
      "cell_type": "markdown",
      "metadata": {
        "id": "e6W00t5doDk2",
        "colab_type": "text"
      },
      "source": [
        "https://github.com/noachr/MixMatch-fastai/blob/master/MixMatch%20Blog.ipynb\n",
        "https://github.com/noachr/MixMatch-fastai/blob/master/MixMatch%20EMA.ipynb"
      ]
    },
    {
      "cell_type": "code",
      "metadata": {
        "id": "KLO93K1RoCYR",
        "colab_type": "code",
        "colab": {}
      },
      "source": [
        ""
      ],
      "execution_count": null,
      "outputs": []
    },
    {
      "cell_type": "markdown",
      "metadata": {
        "id": "zCRXrXVwoDn_",
        "colab_type": "text"
      },
      "source": [
        "Mixup is a technique where we mix up the input image distributions (of which data) with one another in order to ensure better generialization by predicting truth percentage assigned to each labels "
      ]
    },
    {
      "cell_type": "code",
      "metadata": {
        "id": "3TxGzPtER_Ow",
        "colab_type": "code",
        "colab": {}
      },
      "source": [
        ""
      ],
      "execution_count": null,
      "outputs": []
    }
  ]
}