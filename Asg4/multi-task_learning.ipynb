{
  "nbformat": 4,
  "nbformat_minor": 0,
  "metadata": {
    "colab": {
      "name": "Untitled3.ipynb",
      "provenance": [],
      "authorship_tag": "ABX9TyPenNO0IWbX5nC+Hm8vVD7E",
      "include_colab_link": true
    },
    "kernelspec": {
      "name": "python3",
      "display_name": "Python 3"
    }
  },
  "cells": [
    {
      "cell_type": "markdown",
      "metadata": {
        "id": "view-in-github",
        "colab_type": "text"
      },
      "source": [
        "<a href=\"https://colab.research.google.com/github/manmeet3/Deep_Learning2/blob/master/Asg4/multi-task_learning.ipynb\" target=\"_parent\"><img src=\"https://colab.research.google.com/assets/colab-badge.svg\" alt=\"Open In Colab\"/></a>"
      ]
    },
    {
      "cell_type": "code",
      "metadata": {
        "id": "CsRdGrosgM_8"
      },
      "source": [
        "# Adapt the following to new class of problem\n",
        "# https://github.com/sugi-chan/fgo-multi-task-keras/blob/master/fgo_multiclass.ipynb\n",
        "# https://github.com/sugi-chan/fgo-multi-task-keras/blob/master/predicting_fgo.ipynb "
      ],
      "execution_count": null,
      "outputs": []
    }
  ]
}