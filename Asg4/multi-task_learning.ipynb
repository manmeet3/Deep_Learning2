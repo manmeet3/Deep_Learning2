{
 "cells": [
  {
   "cell_type": "markdown",
   "metadata": {
    "colab_type": "text",
    "id": "view-in-github"
   },
   "source": [
    "<a href=\"https://colab.research.google.com/github/manmeet3/Deep_Learning2/blob/master/Asg4/multi-task_learning.ipynb\" target=\"_parent\"><img src=\"https://colab.research.google.com/assets/colab-badge.svg\" alt=\"Open In Colab\"/></a>"
   ]
  },
  {
   "cell_type": "code",
   "execution_count": null,
   "metadata": {
    "id": "CsRdGrosgM_8"
   },
   "outputs": [],
   "source": [
    "# Adapt the following to new class of problem\n",
    "# https://github.com/sugi-chan/fgo-multi-task-keras/blob/master/fgo_multiclass.ipynb\n",
    "# https://github.com/sugi-chan/fgo-multi-task-keras/blob/master/predicting_fgo.ipynb \n",
    "# https://www.tensorflow.org/recommenders/examples/multitask"
   ]
  },
  {
   "cell_type": "markdown",
   "metadata": {},
   "source": [
    "This notebook contains the code for a multi-objective movie recommendation model. An example use case for such a model can be seen at http://movielens.org. We follow the multitask example from tensorflow.org\n",
    "\n",
    "There are two critical parts of multi-task recommenders:\n",
    "1. They optimize for two or more objectives, and so have two or more losses\n",
    "2. They share variables between the tasks, allowing for transfer learning"
   ]
  },
  {
   "cell_type": "markdown",
   "metadata": {},
   "source": [
    "Tensorflow recommenders is an extension library of core tensorflow.\n",
    "Ref: https://www.tensorflow.org/resources/libraries-extensions"
   ]
  },
  {
   "cell_type": "code",
   "execution_count": null,
   "metadata": {},
   "outputs": [],
   "source": []
  }
 ],
 "metadata": {
  "colab": {
   "authorship_tag": "ABX9TyPenNO0IWbX5nC+Hm8vVD7E",
   "include_colab_link": true,
   "name": "Untitled3.ipynb",
   "provenance": []
  },
  "kernelspec": {
   "display_name": "Python 3",
   "language": "python",
   "name": "python3"
  },
  "language_info": {
   "codemirror_mode": {
    "name": "ipython",
    "version": 3
   },
   "file_extension": ".py",
   "mimetype": "text/x-python",
   "name": "python",
   "nbconvert_exporter": "python",
   "pygments_lexer": "ipython3",
   "version": "3.6.9"
  }
 },
 "nbformat": 4,
 "nbformat_minor": 1
}
