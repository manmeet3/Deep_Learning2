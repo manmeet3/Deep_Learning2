{
  "nbformat": 4,
  "nbformat_minor": 0,
  "metadata": {
    "colab": {
      "name": "Untitled3.ipynb",
      "provenance": [],
      "authorship_tag": "ABX9TyN0Qc+vqm7bi1aX1s8YFB65",
      "include_colab_link": true
    },
    "kernelspec": {
      "name": "python3",
      "display_name": "Python 3"
    }
  },
  "cells": [
    {
      "cell_type": "markdown",
      "metadata": {
        "id": "view-in-github",
        "colab_type": "text"
      },
      "source": [
        "<a href=\"https://colab.research.google.com/github/manmeet3/Deep_Learning2/blob/master/Asg4/meta-learning.ipynb\" target=\"_parent\"><img src=\"https://colab.research.google.com/assets/colab-badge.svg\" alt=\"Open In Colab\"/></a>"
      ]
    },
    {
      "cell_type": "markdown",
      "metadata": {
        "id": "qxFvxeG6FvOw"
      },
      "source": [
        "## Meta Learning\n",
        "Using Omni glot dataset"
      ]
    },
    {
      "cell_type": "code",
      "metadata": {
        "id": "KBeP3iJPF6w3"
      },
      "source": [
        "# ref: https://github.com/shashankhalo7/Omniglot_meta_learning/blob/master/osl.ipynb"
      ],
      "execution_count": null,
      "outputs": []
    },
    {
      "cell_type": "code",
      "metadata": {
        "id": "CsRdGrosgM_8",
        "outputId": "f08c453e-4ac9-40e3-956b-2b26fc3074e4",
        "colab": {
          "base_uri": "https://localhost:8080/",
          "height": 289
        }
      },
      "source": [
        "!wget https://github.com/manmeet3/Deep_Learning2/raw/master/Asg4/images_background.zip"
      ],
      "execution_count": 2,
      "outputs": [
        {
          "output_type": "stream",
          "text": [
            "--2020-10-15 21:06:15--  https://github.com/manmeet3/Deep_Learning2/raw/master/Asg4/images_background.zip\n",
            "Resolving github.com (github.com)... 140.82.114.3\n",
            "Connecting to github.com (github.com)|140.82.114.3|:443... connected.\n",
            "HTTP request sent, awaiting response... 302 Found\n",
            "Location: https://raw.githubusercontent.com/manmeet3/Deep_Learning2/master/Asg4/images_background.zip [following]\n",
            "--2020-10-15 21:06:16--  https://raw.githubusercontent.com/manmeet3/Deep_Learning2/master/Asg4/images_background.zip\n",
            "Resolving raw.githubusercontent.com (raw.githubusercontent.com)... 151.101.0.133, 151.101.64.133, 151.101.128.133, ...\n",
            "Connecting to raw.githubusercontent.com (raw.githubusercontent.com)|151.101.0.133|:443... connected.\n",
            "HTTP request sent, awaiting response... 200 OK\n",
            "Length: 9464212 (9.0M) [application/zip]\n",
            "Saving to: ‘images_background.zip’\n",
            "\n",
            "images_background.z 100%[===================>]   9.03M  17.8MB/s    in 0.5s    \n",
            "\n",
            "2020-10-15 21:06:16 (17.8 MB/s) - ‘images_background.zip’ saved [9464212/9464212]\n",
            "\n"
          ],
          "name": "stdout"
        }
      ]
    },
    {
      "cell_type": "code",
      "metadata": {
        "id": "kR2Ris-xFUG7",
        "outputId": "7d147b4d-55a4-4f0f-93db-0238f51330c1",
        "colab": {
          "base_uri": "https://localhost:8080/",
          "height": 289
        }
      },
      "source": [
        "!wget https://github.com/manmeet3/Deep_Learning2/raw/master/Asg4/images_evaluation.zip"
      ],
      "execution_count": 1,
      "outputs": [
        {
          "output_type": "stream",
          "text": [
            "--2020-10-15 21:06:14--  https://github.com/manmeet3/Deep_Learning2/raw/master/Asg4/images_evaluation.zip\n",
            "Resolving github.com (github.com)... 140.82.112.3\n",
            "Connecting to github.com (github.com)|140.82.112.3|:443... connected.\n",
            "HTTP request sent, awaiting response... 302 Found\n",
            "Location: https://raw.githubusercontent.com/manmeet3/Deep_Learning2/master/Asg4/images_evaluation.zip [following]\n",
            "--2020-10-15 21:06:14--  https://raw.githubusercontent.com/manmeet3/Deep_Learning2/master/Asg4/images_evaluation.zip\n",
            "Resolving raw.githubusercontent.com (raw.githubusercontent.com)... 151.101.0.133, 151.101.64.133, 151.101.128.133, ...\n",
            "Connecting to raw.githubusercontent.com (raw.githubusercontent.com)|151.101.0.133|:443... connected.\n",
            "HTTP request sent, awaiting response... 200 OK\n",
            "Length: 6462886 (6.2M) [application/zip]\n",
            "Saving to: ‘images_evaluation.zip’\n",
            "\n",
            "images_evaluation.z 100%[===================>]   6.16M  14.7MB/s    in 0.4s    \n",
            "\n",
            "2020-10-15 21:06:15 (14.7 MB/s) - ‘images_evaluation.zip’ saved [6462886/6462886]\n",
            "\n"
          ],
          "name": "stdout"
        }
      ]
    },
    {
      "cell_type": "code",
      "metadata": {
        "id": "aBafSR30FZWN"
      },
      "source": [
        "!unzip -q images_background.zip\n",
        "!unzip -q images_evaluation.zip"
      ],
      "execution_count": 5,
      "outputs": []
    },
    {
      "cell_type": "code",
      "metadata": {
        "id": "em5EasOgFgIX",
        "outputId": "917dbe0c-1bad-45e4-f53e-e1425fcd7395",
        "colab": {
          "base_uri": "https://localhost:8080/",
          "height": 51
        }
      },
      "source": [
        "!ls"
      ],
      "execution_count": 6,
      "outputs": [
        {
          "output_type": "stream",
          "text": [
            "images_background      images_evaluation      sample_data\n",
            "images_background.zip  images_evaluation.zip\n"
          ],
          "name": "stdout"
        }
      ]
    },
    {
      "cell_type": "code",
      "metadata": {
        "id": "mM7q9qJTFhOG"
      },
      "source": [
        "import sys\n",
        "import numpy as np\n",
        "import pandas as pd\n",
        "from imageio import imread # from scipy.misc import imread\n",
        "import pickle\n",
        "import os\n",
        "import matplotlib.pyplot as plt\n",
        "%matplotlib inline\n",
        "\n",
        "import cv2\n",
        "import time\n",
        "\n",
        "import tensorflow as tf\n",
        "from keras.models import Sequential\n",
        "from keras.optimizers import Adam\n",
        "from keras.layers import Conv2D, ZeroPadding2D, Activation, Input, concatenate\n",
        "from keras.models import Model\n",
        "\n",
        "from keras.layers.normalization import BatchNormalization\n",
        "from keras.layers.pooling import MaxPooling2D\n",
        "from keras.layers.merge import Concatenate\n",
        "from keras.layers.core import Lambda, Flatten, Dense\n",
        "from keras.initializers import glorot_uniform\n",
        "\n",
        "from keras.engine.topology import Layer\n",
        "from keras.regularizers import l2\n",
        "from keras import backend as K\n",
        "\n",
        "from sklearn.utils import shuffle"
      ],
      "execution_count": 11,
      "outputs": []
    },
    {
      "cell_type": "code",
      "metadata": {
        "id": "CdDtipXpJSsk"
      },
      "source": [
        "!mkdir data"
      ],
      "execution_count": 12,
      "outputs": []
    },
    {
      "cell_type": "code",
      "metadata": {
        "id": "WPyaz2NlKa1E"
      },
      "source": [
        "train_folder = \"images_background/\"\n",
        "val_folder = \"images_evaluation/\"\n",
        "save_path = \"data/\""
      ],
      "execution_count": 13,
      "outputs": []
    },
    {
      "cell_type": "code",
      "metadata": {
        "id": "TlS7cGJOKg2K"
      },
      "source": [
        "def loadimages(path, n=0):\n",
        "  '''\n",
        "  Parameters:\n",
        "  string:path -> Path of train or test directory\n",
        "\n",
        "  Return Value:\n",
        "  tuple:(x, y, language_dictionary)\n",
        "  '''\n",
        "  X=[]\n",
        "  y=[]\n",
        "  cat_dict={}\n",
        "  lang_dict={}\n",
        "  curr_y=next\n",
        "\n",
        "  for alphabet in os.listdir(path):\n",
        "    print(\"loading alphabet: \" + alphabet)\n",
        "    lang_dict[alphabet] = [curr_y, None]\n",
        "    alphabet_path = os.path.join(path, alphabet)\n",
        "\n",
        "\n"
      ],
      "execution_count": null,
      "outputs": []
    }
  ]
}