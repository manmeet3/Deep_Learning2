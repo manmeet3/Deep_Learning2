{
  "nbformat": 4,
  "nbformat_minor": 0,
  "metadata": {
    "colab": {
      "name": "Untitled3.ipynb",
      "provenance": [],
      "authorship_tag": "ABX9TyMxS6x9xsmxEtLdlkpwOAWh",
      "include_colab_link": true
    },
    "kernelspec": {
      "name": "python3",
      "display_name": "Python 3"
    },
    "accelerator": "GPU"
  },
  "cells": [
    {
      "cell_type": "markdown",
      "metadata": {
        "id": "view-in-github",
        "colab_type": "text"
      },
      "source": [
        "<a href=\"https://colab.research.google.com/github/manmeet3/Deep_Learning2/blob/master/Asg4/meta-learning.ipynb\" target=\"_parent\"><img src=\"https://colab.research.google.com/assets/colab-badge.svg\" alt=\"Open In Colab\"/></a>"
      ]
    },
    {
      "cell_type": "markdown",
      "metadata": {
        "id": "qxFvxeG6FvOw"
      },
      "source": [
        "## Meta Learning\n",
        "Using Omni glot dataset"
      ]
    },
    {
      "cell_type": "code",
      "metadata": {
        "id": "KBeP3iJPF6w3"
      },
      "source": [
        "# ref: https://github.com/shashankhalo7/Omniglot_meta_learning/blob/master/osl.ipynb"
      ],
      "execution_count": null,
      "outputs": []
    },
    {
      "cell_type": "code",
      "metadata": {
        "id": "CsRdGrosgM_8",
        "outputId": "063044cb-9280-4033-c647-6ec94d4a40f2",
        "colab": {
          "base_uri": "https://localhost:8080/",
          "height": 309
        }
      },
      "source": [
        "!wget https://github.com/manmeet3/Deep_Learning2/raw/master/Asg4/images_background.zip"
      ],
      "execution_count": 1,
      "outputs": [
        {
          "output_type": "stream",
          "text": [
            "--2020-10-16 20:22:44--  https://github.com/manmeet3/Deep_Learning2/raw/master/Asg4/images_background.zip\n",
            "Resolving github.com (github.com)... 140.82.121.3\n",
            "Connecting to github.com (github.com)|140.82.121.3|:443... connected.\n",
            "HTTP request sent, awaiting response... 302 Found\n",
            "Location: https://raw.githubusercontent.com/manmeet3/Deep_Learning2/master/Asg4/images_background.zip [following]\n",
            "--2020-10-16 20:22:45--  https://raw.githubusercontent.com/manmeet3/Deep_Learning2/master/Asg4/images_background.zip\n",
            "Resolving raw.githubusercontent.com (raw.githubusercontent.com)... 151.101.0.133, 151.101.64.133, 151.101.128.133, ...\n",
            "Connecting to raw.githubusercontent.com (raw.githubusercontent.com)|151.101.0.133|:443... connected.\n",
            "HTTP request sent, awaiting response... 200 OK\n",
            "Length: 9464212 (9.0M) [application/zip]\n",
            "Saving to: ‘images_background.zip’\n",
            "\n",
            "images_background.z 100%[===================>]   9.03M  51.0MB/s    in 0.2s    \n",
            "\n",
            "2020-10-16 20:22:46 (51.0 MB/s) - ‘images_background.zip’ saved [9464212/9464212]\n",
            "\n"
          ],
          "name": "stdout"
        }
      ]
    },
    {
      "cell_type": "code",
      "metadata": {
        "id": "kR2Ris-xFUG7",
        "outputId": "b3242c4f-38f5-43e3-8842-ec9e059a1977",
        "colab": {
          "base_uri": "https://localhost:8080/",
          "height": 309
        }
      },
      "source": [
        "!wget https://github.com/manmeet3/Deep_Learning2/raw/master/Asg4/images_evaluation.zip"
      ],
      "execution_count": 2,
      "outputs": [
        {
          "output_type": "stream",
          "text": [
            "--2020-10-16 20:22:47--  https://github.com/manmeet3/Deep_Learning2/raw/master/Asg4/images_evaluation.zip\n",
            "Resolving github.com (github.com)... 140.82.118.3\n",
            "Connecting to github.com (github.com)|140.82.118.3|:443... connected.\n",
            "HTTP request sent, awaiting response... 302 Found\n",
            "Location: https://raw.githubusercontent.com/manmeet3/Deep_Learning2/master/Asg4/images_evaluation.zip [following]\n",
            "--2020-10-16 20:22:48--  https://raw.githubusercontent.com/manmeet3/Deep_Learning2/master/Asg4/images_evaluation.zip\n",
            "Resolving raw.githubusercontent.com (raw.githubusercontent.com)... 151.101.0.133, 151.101.64.133, 151.101.128.133, ...\n",
            "Connecting to raw.githubusercontent.com (raw.githubusercontent.com)|151.101.0.133|:443... connected.\n",
            "HTTP request sent, awaiting response... 200 OK\n",
            "Length: 6462886 (6.2M) [application/zip]\n",
            "Saving to: ‘images_evaluation.zip’\n",
            "\n",
            "images_evaluation.z 100%[===================>]   6.16M  --.-KB/s    in 0.1s    \n",
            "\n",
            "2020-10-16 20:22:48 (47.6 MB/s) - ‘images_evaluation.zip’ saved [6462886/6462886]\n",
            "\n"
          ],
          "name": "stdout"
        }
      ]
    },
    {
      "cell_type": "code",
      "metadata": {
        "id": "aBafSR30FZWN"
      },
      "source": [
        "!unzip -q images_background.zip\n",
        "!unzip -q images_evaluation.zip"
      ],
      "execution_count": 3,
      "outputs": []
    },
    {
      "cell_type": "code",
      "metadata": {
        "id": "em5EasOgFgIX",
        "outputId": "b29e4214-3603-401e-e97c-24e32b12d25a",
        "colab": {
          "base_uri": "https://localhost:8080/",
          "height": 51
        }
      },
      "source": [
        "!ls"
      ],
      "execution_count": 4,
      "outputs": [
        {
          "output_type": "stream",
          "text": [
            "images_background      images_evaluation      sample_data\n",
            "images_background.zip  images_evaluation.zip\n"
          ],
          "name": "stdout"
        }
      ]
    },
    {
      "cell_type": "code",
      "metadata": {
        "id": "mM7q9qJTFhOG"
      },
      "source": [
        "import sys\n",
        "import numpy as np\n",
        "import pandas as pd\n",
        "from imageio import imread # from scipy.misc import imread\n",
        "import pickle\n",
        "import os\n",
        "import matplotlib.pyplot as plt\n",
        "%matplotlib inline\n",
        "\n",
        "import cv2\n",
        "import time\n",
        "\n",
        "import tensorflow as tf\n",
        "from keras.models import Sequential\n",
        "from keras.optimizers import Adam\n",
        "from keras.layers import Conv2D, ZeroPadding2D, Activation, Input, concatenate\n",
        "from keras.models import Model\n",
        "\n",
        "from keras.layers.normalization import BatchNormalization\n",
        "from keras.layers.pooling import MaxPooling2D\n",
        "from keras.layers.merge import Concatenate\n",
        "from keras.layers.core import Lambda, Flatten, Dense\n",
        "from keras.initializers import glorot_uniform\n",
        "\n",
        "from keras.engine.topology import Layer\n",
        "from keras.regularizers import l2\n",
        "from keras import backend as K\n",
        "\n",
        "from sklearn.utils import shuffle"
      ],
      "execution_count": 5,
      "outputs": []
    },
    {
      "cell_type": "code",
      "metadata": {
        "id": "CdDtipXpJSsk"
      },
      "source": [
        "!mkdir data"
      ],
      "execution_count": 6,
      "outputs": []
    },
    {
      "cell_type": "code",
      "metadata": {
        "id": "WPyaz2NlKa1E"
      },
      "source": [
        "train_folder = \"images_background/\"\n",
        "val_folder = \"images_evaluation/\"\n",
        "save_path = \"data/\""
      ],
      "execution_count": 7,
      "outputs": []
    },
    {
      "cell_type": "code",
      "metadata": {
        "id": "TlS7cGJOKg2K"
      },
      "source": [
        "def loadimages(path, n=0):\n",
        "  '''\n",
        "  Parameters:\n",
        "  string:path -> Path of train or test directory\n",
        "\n",
        "  Return Value:\n",
        "  tuple:(x, y, language_dictionary)\n",
        "  '''\n",
        "  X=[]\n",
        "  y=[]\n",
        "  cat_dict = {}\n",
        "  lang_dict = {}\n",
        "  curr_y = n\n",
        "\n",
        "  for alphabet in os.listdir(path):\n",
        "    print(\"loading alphabet: \" + alphabet)\n",
        "    lang_dict[alphabet] = [curr_y, None]\n",
        "    alphabet_path = os.path.join(path, alphabet)\n",
        "    # Set each letter as its own column\n",
        "    for letter in os.listdir(alphabet_path):\n",
        "      cat_dict[curr_y] = (alphabet, letter)\n",
        "      category_images=[]\n",
        "      letter_path = os.path.join(alphabet_path, letter)\n",
        "      # read images in current category\n",
        "      for filename in os.listdir(letter_path):\n",
        "        image_path = os.path.join(letter_path, filename)\n",
        "        image = imread(image_path)\n",
        "        category_images.append(image)\n",
        "        y.append(curr_y)\n",
        "      try:\n",
        "        X.append(np.stack(category_images))\n",
        "      # edge case - last one\n",
        "      except ValueError as e:\n",
        "        print(e)\n",
        "        print(\"error - category_images:\", category_images)\n",
        "      curr_y += 1\n",
        "      lang_dict[alphabet][1] = curr_y - 1\n",
        "  y = np.vstack(y)\n",
        "  X = np.stack(X)\n",
        "  return X,y,lang_dict"
      ],
      "execution_count": 12,
      "outputs": []
    },
    {
      "cell_type": "code",
      "metadata": {
        "id": "RDcaYfZrEERP",
        "outputId": "a4b2dd4d-97da-44fe-bb00-910a6576cf83",
        "colab": {
          "base_uri": "https://localhost:8080/",
          "height": 527
        }
      },
      "source": [
        "X, y, c = loadimages(train_folder)"
      ],
      "execution_count": 13,
      "outputs": [
        {
          "output_type": "stream",
          "text": [
            "loading alphabet: Hebrew\n",
            "loading alphabet: Greek\n",
            "loading alphabet: Armenian\n",
            "loading alphabet: Mkhedruli_(Georgian)\n",
            "loading alphabet: Latin\n",
            "loading alphabet: Burmese_(Myanmar)\n",
            "loading alphabet: Tagalog\n",
            "loading alphabet: Arcadian\n",
            "loading alphabet: Futurama\n",
            "loading alphabet: Anglo-Saxon_Futhorc\n",
            "loading alphabet: Ojibwe_(Canadian_Aboriginal_Syllabics)\n",
            "loading alphabet: Braille\n",
            "loading alphabet: Alphabet_of_the_Magi\n",
            "loading alphabet: Early_Aramaic\n",
            "loading alphabet: N_Ko\n",
            "loading alphabet: Blackfoot_(Canadian_Aboriginal_Syllabics)\n",
            "loading alphabet: Malay_(Jawi_-_Arabic)\n",
            "loading alphabet: Japanese_(katakana)\n",
            "loading alphabet: Tifinagh\n",
            "loading alphabet: Balinese\n",
            "loading alphabet: Gujarati\n",
            "loading alphabet: Asomtavruli_(Georgian)\n",
            "loading alphabet: Bengali\n",
            "loading alphabet: Inuktitut_(Canadian_Aboriginal_Syllabics)\n",
            "loading alphabet: Grantha\n",
            "loading alphabet: Syriac_(Estrangelo)\n",
            "loading alphabet: Cyrillic\n",
            "loading alphabet: Korean\n",
            "loading alphabet: Japanese_(hiragana)\n",
            "loading alphabet: Sanskrit\n"
          ],
          "name": "stdout"
        }
      ]
    },
    {
      "cell_type": "code",
      "metadata": {
        "id": "lpCVku3MFHGD"
      },
      "source": [
        "with open(os.path.join(save_path, \"train.pickle\"), \"wb\") as f:\n",
        "  pickle.dump((X,c ), f)"
      ],
      "execution_count": 14,
      "outputs": []
    },
    {
      "cell_type": "code",
      "metadata": {
        "id": "oY4QGet5GMi5",
        "outputId": "7aaa6571-118c-4621-c0c6-6b579f03bb93",
        "colab": {
          "base_uri": "https://localhost:8080/",
          "height": 357
        }
      },
      "source": [
        "Xval, yval, cval = loadimages(val_folder)"
      ],
      "execution_count": 16,
      "outputs": [
        {
          "output_type": "stream",
          "text": [
            "loading alphabet: Malayalam\n",
            "loading alphabet: Gurmukhi\n",
            "loading alphabet: Old_Church_Slavonic_(Cyrillic)\n",
            "loading alphabet: Syriac_(Serto)\n",
            "loading alphabet: Kannada\n",
            "loading alphabet: ULOG\n",
            "loading alphabet: Avesta\n",
            "loading alphabet: Mongolian\n",
            "loading alphabet: Glagolitic\n",
            "loading alphabet: Manipuri\n",
            "loading alphabet: Ge_ez\n",
            "loading alphabet: Sylheti\n",
            "loading alphabet: Atlantean\n",
            "loading alphabet: Keble\n",
            "loading alphabet: Angelic\n",
            "loading alphabet: Tengwar\n",
            "loading alphabet: Tibetan\n",
            "loading alphabet: Aurek-Besh\n",
            "loading alphabet: Oriya\n",
            "loading alphabet: Atemayar_Qelisayer\n"
          ],
          "name": "stdout"
        }
      ]
    },
    {
      "cell_type": "code",
      "metadata": {
        "id": "JcH-hpCcGPy-"
      },
      "source": [
        "with open(os.path.join(save_path, \"val.pickly\"), \"wb\") as f:\n",
        "  pickle.dump((Xval, cval), f)"
      ],
      "execution_count": 17,
      "outputs": []
    },
    {
      "cell_type": "code",
      "metadata": {
        "id": "dRC0AZWLHYS-"
      },
      "source": [
        "def initialize_weights(shape, name=None):\n",
        "  '''\n",
        "     Initialize CNN layer weights with mean as 0.0 and standard deviation 0f 0.01\n",
        "  '''\n",
        "  return np.random.normal(loc = 0.0, scale = 1e-2, size=shape)"
      ],
      "execution_count": 18,
      "outputs": []
    },
    {
      "cell_type": "code",
      "metadata": {
        "id": "YzluwtmJHu4A"
      },
      "source": [
        "def initialize_bias(shape, name=None):\n",
        "  '''\n",
        "\n",
        "  '''\n",
        "  return np.random.normal(loc = 0.5, scale = 1e-2, size = shape)"
      ],
      "execution_count": null,
      "outputs": []
    }
  ]
}